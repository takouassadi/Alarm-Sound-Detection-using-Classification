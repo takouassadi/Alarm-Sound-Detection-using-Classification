{
  "cells": [
    {
      "cell_type": "code",
      "execution_count": null,
      "metadata": {
        "colab": {
          "base_uri": "https://localhost:8080/"
        },
        "id": "CeZM0J0PPhP7",
        "outputId": "aee769f3-210f-417a-bb4e-053dd2f42e50"
      },
      "outputs": [
        {
          "name": "stdout",
          "output_type": "stream",
          "text": [
            "Looking in indexes: https://pypi.org/simple, https://us-python.pkg.dev/colab-wheels/public/simple/\n",
            "Requirement already satisfied: librosa in /usr/local/lib/python3.7/dist-packages (0.8.1)\n",
            "Requirement already satisfied: packaging>=20.0 in /usr/local/lib/python3.7/dist-packages (from librosa) (21.3)\n",
            "Requirement already satisfied: pooch>=1.0 in /usr/local/lib/python3.7/dist-packages (from librosa) (1.6.0)\n",
            "Requirement already satisfied: decorator>=3.0.0 in /usr/local/lib/python3.7/dist-packages (from librosa) (4.4.2)\n",
            "Requirement already satisfied: scikit-learn!=0.19.0,>=0.14.0 in /usr/local/lib/python3.7/dist-packages (from librosa) (1.0.2)\n",
            "Requirement already satisfied: resampy>=0.2.2 in /usr/local/lib/python3.7/dist-packages (from librosa) (0.3.1)\n",
            "Requirement already satisfied: numba>=0.43.0 in /usr/local/lib/python3.7/dist-packages (from librosa) (0.56.0)\n",
            "Requirement already satisfied: scipy>=1.0.0 in /usr/local/lib/python3.7/dist-packages (from librosa) (1.7.3)\n",
            "Requirement already satisfied: joblib>=0.14 in /usr/local/lib/python3.7/dist-packages (from librosa) (1.1.0)\n",
            "Requirement already satisfied: audioread>=2.0.0 in /usr/local/lib/python3.7/dist-packages (from librosa) (2.1.9)\n",
            "Requirement already satisfied: soundfile>=0.10.2 in /usr/local/lib/python3.7/dist-packages (from librosa) (0.10.3.post1)\n",
            "Requirement already satisfied: numpy>=1.15.0 in /usr/local/lib/python3.7/dist-packages (from librosa) (1.21.6)\n",
            "Requirement already satisfied: setuptools in /usr/local/lib/python3.7/dist-packages (from numba>=0.43.0->librosa) (57.4.0)\n",
            "Requirement already satisfied: importlib-metadata in /usr/local/lib/python3.7/dist-packages (from numba>=0.43.0->librosa) (4.12.0)\n",
            "Requirement already satisfied: llvmlite<0.40,>=0.39.0dev0 in /usr/local/lib/python3.7/dist-packages (from numba>=0.43.0->librosa) (0.39.0)\n",
            "Requirement already satisfied: pyparsing!=3.0.5,>=2.0.2 in /usr/local/lib/python3.7/dist-packages (from packaging>=20.0->librosa) (3.0.9)\n",
            "Requirement already satisfied: requests>=2.19.0 in /usr/local/lib/python3.7/dist-packages (from pooch>=1.0->librosa) (2.23.0)\n",
            "Requirement already satisfied: appdirs>=1.3.0 in /usr/local/lib/python3.7/dist-packages (from pooch>=1.0->librosa) (1.4.4)\n",
            "Requirement already satisfied: certifi>=2017.4.17 in /usr/local/lib/python3.7/dist-packages (from requests>=2.19.0->pooch>=1.0->librosa) (2022.6.15)\n",
            "Requirement already satisfied: urllib3!=1.25.0,!=1.25.1,<1.26,>=1.21.1 in /usr/local/lib/python3.7/dist-packages (from requests>=2.19.0->pooch>=1.0->librosa) (1.24.3)\n",
            "Requirement already satisfied: chardet<4,>=3.0.2 in /usr/local/lib/python3.7/dist-packages (from requests>=2.19.0->pooch>=1.0->librosa) (3.0.4)\n",
            "Requirement already satisfied: idna<3,>=2.5 in /usr/local/lib/python3.7/dist-packages (from requests>=2.19.0->pooch>=1.0->librosa) (2.10)\n",
            "Requirement already satisfied: threadpoolctl>=2.0.0 in /usr/local/lib/python3.7/dist-packages (from scikit-learn!=0.19.0,>=0.14.0->librosa) (3.1.0)\n",
            "Requirement already satisfied: cffi>=1.0 in /usr/local/lib/python3.7/dist-packages (from soundfile>=0.10.2->librosa) (1.15.1)\n",
            "Requirement already satisfied: pycparser in /usr/local/lib/python3.7/dist-packages (from cffi>=1.0->soundfile>=0.10.2->librosa) (2.21)\n",
            "Requirement already satisfied: zipp>=0.5 in /usr/local/lib/python3.7/dist-packages (from importlib-metadata->numba>=0.43.0->librosa) (3.8.1)\n",
            "Requirement already satisfied: typing-extensions>=3.6.4 in /usr/local/lib/python3.7/dist-packages (from importlib-metadata->numba>=0.43.0->librosa) (4.1.1)\n"
          ]
        }
      ],
      "source": [
        "!pip install librosa"
      ]
    },
    {
      "cell_type": "code",
      "execution_count": null,
      "metadata": {
        "colab": {
          "base_uri": "https://localhost:8080/"
        },
        "id": "RxzKfCnzRNdx",
        "outputId": "c323a0d8-58e8-4b08-9e19-5378b9cd7218"
      },
      "outputs": [
        {
          "name": "stdout",
          "output_type": "stream",
          "text": [
            "Drive already mounted at /content/drive; to attempt to forcibly remount, call drive.mount(\"/content/drive\", force_remount=True).\n"
          ]
        }
      ],
      "source": [
        "import matplotlib.pyplot as plt\n",
        "%matplotlib inline\n",
        "import IPython.display as ipd\n",
        "import librosa\n",
        "import librosa.display\n",
        "from google.colab import drive\n",
        "drive.mount('/content/drive')"
      ]
    },
    {
      "cell_type": "code",
      "execution_count": null,
      "metadata": {
        "colab": {
          "base_uri": "https://localhost:8080/",
          "height": 363
        },
        "id": "nKdAHxZfRV87",
        "outputId": "9aa73e20-9510-49ba-8fd6-a28f6dab71db"
      },
      "outputs": [
        {
          "data": {
            "text/html": [
              "\n",
              "  <div id=\"df-8507ff7b-06e2-4ed2-a202-d578a3d883cd\">\n",
              "    <div class=\"colab-df-container\">\n",
              "      <div>\n",
              "<style scoped>\n",
              "    .dataframe tbody tr th:only-of-type {\n",
              "        vertical-align: middle;\n",
              "    }\n",
              "\n",
              "    .dataframe tbody tr th {\n",
              "        vertical-align: top;\n",
              "    }\n",
              "\n",
              "    .dataframe thead th {\n",
              "        text-align: right;\n",
              "    }\n",
              "</style>\n",
              "<table border=\"1\" class=\"dataframe\">\n",
              "  <thead>\n",
              "    <tr style=\"text-align: right;\">\n",
              "      <th></th>\n",
              "      <th>slice_file_name</th>\n",
              "      <th>fsID</th>\n",
              "      <th>start</th>\n",
              "      <th>end</th>\n",
              "      <th>salience</th>\n",
              "      <th>fold</th>\n",
              "      <th>classID</th>\n",
              "      <th>class</th>\n",
              "    </tr>\n",
              "  </thead>\n",
              "  <tbody>\n",
              "    <tr>\n",
              "      <th>0</th>\n",
              "      <td>100032-3-0-0.wav</td>\n",
              "      <td>100032</td>\n",
              "      <td>0.000000</td>\n",
              "      <td>0.317551</td>\n",
              "      <td>1</td>\n",
              "      <td>5</td>\n",
              "      <td>3</td>\n",
              "      <td>dog_bark</td>\n",
              "    </tr>\n",
              "    <tr>\n",
              "      <th>1</th>\n",
              "      <td>100263-2-0-117.wav</td>\n",
              "      <td>100263</td>\n",
              "      <td>58.500000</td>\n",
              "      <td>62.500000</td>\n",
              "      <td>1</td>\n",
              "      <td>5</td>\n",
              "      <td>2</td>\n",
              "      <td>children_playing</td>\n",
              "    </tr>\n",
              "    <tr>\n",
              "      <th>2</th>\n",
              "      <td>100263-2-0-121.wav</td>\n",
              "      <td>100263</td>\n",
              "      <td>60.500000</td>\n",
              "      <td>64.500000</td>\n",
              "      <td>1</td>\n",
              "      <td>5</td>\n",
              "      <td>2</td>\n",
              "      <td>children_playing</td>\n",
              "    </tr>\n",
              "    <tr>\n",
              "      <th>3</th>\n",
              "      <td>100263-2-0-126.wav</td>\n",
              "      <td>100263</td>\n",
              "      <td>63.000000</td>\n",
              "      <td>67.000000</td>\n",
              "      <td>1</td>\n",
              "      <td>5</td>\n",
              "      <td>2</td>\n",
              "      <td>children_playing</td>\n",
              "    </tr>\n",
              "    <tr>\n",
              "      <th>4</th>\n",
              "      <td>100263-2-0-137.wav</td>\n",
              "      <td>100263</td>\n",
              "      <td>68.500000</td>\n",
              "      <td>72.500000</td>\n",
              "      <td>1</td>\n",
              "      <td>5</td>\n",
              "      <td>2</td>\n",
              "      <td>children_playing</td>\n",
              "    </tr>\n",
              "    <tr>\n",
              "      <th>5</th>\n",
              "      <td>100263-2-0-143.wav</td>\n",
              "      <td>100263</td>\n",
              "      <td>71.500000</td>\n",
              "      <td>75.500000</td>\n",
              "      <td>1</td>\n",
              "      <td>5</td>\n",
              "      <td>2</td>\n",
              "      <td>children_playing</td>\n",
              "    </tr>\n",
              "    <tr>\n",
              "      <th>6</th>\n",
              "      <td>100263-2-0-161.wav</td>\n",
              "      <td>100263</td>\n",
              "      <td>80.500000</td>\n",
              "      <td>84.500000</td>\n",
              "      <td>1</td>\n",
              "      <td>5</td>\n",
              "      <td>2</td>\n",
              "      <td>children_playing</td>\n",
              "    </tr>\n",
              "    <tr>\n",
              "      <th>7</th>\n",
              "      <td>100263-2-0-3.wav</td>\n",
              "      <td>100263</td>\n",
              "      <td>1.500000</td>\n",
              "      <td>5.500000</td>\n",
              "      <td>1</td>\n",
              "      <td>5</td>\n",
              "      <td>2</td>\n",
              "      <td>children_playing</td>\n",
              "    </tr>\n",
              "    <tr>\n",
              "      <th>8</th>\n",
              "      <td>100263-2-0-36.wav</td>\n",
              "      <td>100263</td>\n",
              "      <td>18.000000</td>\n",
              "      <td>22.000000</td>\n",
              "      <td>1</td>\n",
              "      <td>5</td>\n",
              "      <td>2</td>\n",
              "      <td>children_playing</td>\n",
              "    </tr>\n",
              "    <tr>\n",
              "      <th>9</th>\n",
              "      <td>100648-1-0-0.wav</td>\n",
              "      <td>100648</td>\n",
              "      <td>4.823402</td>\n",
              "      <td>5.471927</td>\n",
              "      <td>2</td>\n",
              "      <td>10</td>\n",
              "      <td>1</td>\n",
              "      <td>car_horn</td>\n",
              "    </tr>\n",
              "  </tbody>\n",
              "</table>\n",
              "</div>\n",
              "      <button class=\"colab-df-convert\" onclick=\"convertToInteractive('df-8507ff7b-06e2-4ed2-a202-d578a3d883cd')\"\n",
              "              title=\"Convert this dataframe to an interactive table.\"\n",
              "              style=\"display:none;\">\n",
              "        \n",
              "  <svg xmlns=\"http://www.w3.org/2000/svg\" height=\"24px\"viewBox=\"0 0 24 24\"\n",
              "       width=\"24px\">\n",
              "    <path d=\"M0 0h24v24H0V0z\" fill=\"none\"/>\n",
              "    <path d=\"M18.56 5.44l.94 2.06.94-2.06 2.06-.94-2.06-.94-.94-2.06-.94 2.06-2.06.94zm-11 1L8.5 8.5l.94-2.06 2.06-.94-2.06-.94L8.5 2.5l-.94 2.06-2.06.94zm10 10l.94 2.06.94-2.06 2.06-.94-2.06-.94-.94-2.06-.94 2.06-2.06.94z\"/><path d=\"M17.41 7.96l-1.37-1.37c-.4-.4-.92-.59-1.43-.59-.52 0-1.04.2-1.43.59L10.3 9.45l-7.72 7.72c-.78.78-.78 2.05 0 2.83L4 21.41c.39.39.9.59 1.41.59.51 0 1.02-.2 1.41-.59l7.78-7.78 2.81-2.81c.8-.78.8-2.07 0-2.86zM5.41 20L4 18.59l7.72-7.72 1.47 1.35L5.41 20z\"/>\n",
              "  </svg>\n",
              "      </button>\n",
              "      \n",
              "  <style>\n",
              "    .colab-df-container {\n",
              "      display:flex;\n",
              "      flex-wrap:wrap;\n",
              "      gap: 12px;\n",
              "    }\n",
              "\n",
              "    .colab-df-convert {\n",
              "      background-color: #E8F0FE;\n",
              "      border: none;\n",
              "      border-radius: 50%;\n",
              "      cursor: pointer;\n",
              "      display: none;\n",
              "      fill: #1967D2;\n",
              "      height: 32px;\n",
              "      padding: 0 0 0 0;\n",
              "      width: 32px;\n",
              "    }\n",
              "\n",
              "    .colab-df-convert:hover {\n",
              "      background-color: #E2EBFA;\n",
              "      box-shadow: 0px 1px 2px rgba(60, 64, 67, 0.3), 0px 1px 3px 1px rgba(60, 64, 67, 0.15);\n",
              "      fill: #174EA6;\n",
              "    }\n",
              "\n",
              "    [theme=dark] .colab-df-convert {\n",
              "      background-color: #3B4455;\n",
              "      fill: #D2E3FC;\n",
              "    }\n",
              "\n",
              "    [theme=dark] .colab-df-convert:hover {\n",
              "      background-color: #434B5C;\n",
              "      box-shadow: 0px 1px 3px 1px rgba(0, 0, 0, 0.15);\n",
              "      filter: drop-shadow(0px 1px 2px rgba(0, 0, 0, 0.3));\n",
              "      fill: #FFFFFF;\n",
              "    }\n",
              "  </style>\n",
              "\n",
              "      <script>\n",
              "        const buttonEl =\n",
              "          document.querySelector('#df-8507ff7b-06e2-4ed2-a202-d578a3d883cd button.colab-df-convert');\n",
              "        buttonEl.style.display =\n",
              "          google.colab.kernel.accessAllowed ? 'block' : 'none';\n",
              "\n",
              "        async function convertToInteractive(key) {\n",
              "          const element = document.querySelector('#df-8507ff7b-06e2-4ed2-a202-d578a3d883cd');\n",
              "          const dataTable =\n",
              "            await google.colab.kernel.invokeFunction('convertToInteractive',\n",
              "                                                     [key], {});\n",
              "          if (!dataTable) return;\n",
              "\n",
              "          const docLinkHtml = 'Like what you see? Visit the ' +\n",
              "            '<a target=\"_blank\" href=https://colab.research.google.com/notebooks/data_table.ipynb>data table notebook</a>'\n",
              "            + ' to learn more about interactive tables.';\n",
              "          element.innerHTML = '';\n",
              "          dataTable['output_type'] = 'display_data';\n",
              "          await google.colab.output.renderOutput(dataTable, element);\n",
              "          const docLink = document.createElement('div');\n",
              "          docLink.innerHTML = docLinkHtml;\n",
              "          element.appendChild(docLink);\n",
              "        }\n",
              "      </script>\n",
              "    </div>\n",
              "  </div>\n",
              "  "
            ],
            "text/plain": [
              "      slice_file_name    fsID      start        end  salience  fold  classID  \\\n",
              "0    100032-3-0-0.wav  100032   0.000000   0.317551         1     5        3   \n",
              "1  100263-2-0-117.wav  100263  58.500000  62.500000         1     5        2   \n",
              "2  100263-2-0-121.wav  100263  60.500000  64.500000         1     5        2   \n",
              "3  100263-2-0-126.wav  100263  63.000000  67.000000         1     5        2   \n",
              "4  100263-2-0-137.wav  100263  68.500000  72.500000         1     5        2   \n",
              "5  100263-2-0-143.wav  100263  71.500000  75.500000         1     5        2   \n",
              "6  100263-2-0-161.wav  100263  80.500000  84.500000         1     5        2   \n",
              "7    100263-2-0-3.wav  100263   1.500000   5.500000         1     5        2   \n",
              "8   100263-2-0-36.wav  100263  18.000000  22.000000         1     5        2   \n",
              "9    100648-1-0-0.wav  100648   4.823402   5.471927         2    10        1   \n",
              "\n",
              "              class  \n",
              "0          dog_bark  \n",
              "1  children_playing  \n",
              "2  children_playing  \n",
              "3  children_playing  \n",
              "4  children_playing  \n",
              "5  children_playing  \n",
              "6  children_playing  \n",
              "7  children_playing  \n",
              "8  children_playing  \n",
              "9          car_horn  "
            ]
          },
          "execution_count": 3,
          "metadata": {},
          "output_type": "execute_result"
        }
      ],
      "source": [
        "import pandas as pd\n",
        "\n",
        "metadata=pd.read_csv('/content/drive/MyDrive/stageactia/UrbanSound8K/metadata/UrbanSound8K.csv')\n",
        "metadata.head(10)"
      ]
    },
    {
      "cell_type": "markdown",
      "metadata": {
        "id": "EbiXIeb_SKOG"
      },
      "source": [
        "Audio Classification Data Preprocessing"
      ]
    },
    {
      "cell_type": "code",
      "execution_count": null,
      "metadata": {
        "id": "B_gmcSBISBSy"
      },
      "outputs": [],
      "source": [
        "import librosa\n",
        "audio_file_path='/content/drive/MyDrive/stageactia/UrbanSound8K/audio/fold10/100648-1-0-0.wav'\n",
        "librosa_audio_data,librosa_sample_rate=librosa.load(audio_file_path)"
      ]
    },
    {
      "cell_type": "code",
      "execution_count": null,
      "metadata": {
        "colab": {
          "base_uri": "https://localhost:8080/"
        },
        "id": "j7HFV11-TTJN",
        "outputId": "fe8e829b-5405-4a7a-f7e2-605234521545"
      },
      "outputs": [
        {
          "name": "stdout",
          "output_type": "stream",
          "text": [
            "[0.         0.         0.         ... 0.01810447 0.02733562 0.03400249]\n"
          ]
        }
      ],
      "source": [
        "print(librosa_audio_data)"
      ]
    },
    {
      "cell_type": "code",
      "execution_count": null,
      "metadata": {
        "colab": {
          "base_uri": "https://localhost:8080/",
          "height": 282
        },
        "id": "iLQ2VSHVTVLl",
        "outputId": "1467671a-cf80-45de-daf2-d4d15a29af8a"
      },
      "outputs": [
        {
          "data": {
            "text/plain": [
              "[<matplotlib.lines.Line2D at 0x7fdea5e675d0>]"
            ]
          },
          "execution_count": 6,
          "metadata": {},
          "output_type": "execute_result"
        },
        {
          "data": {
            "image/png": "[encoded data removed]",
            "text/plain": [
              "<Figure size 864x288 with 1 Axes>"
            ]
          },
          "metadata": {},
          "output_type": "display_data"
        }
      ],
      "source": [
        "import matplotlib.pyplot as plt\n",
        "# Original audio with 1 channel \n",
        "plt.figure(figsize=(12, 4))\n",
        "plt.plot(librosa_audio_data)"
      ]
    },
    {
      "cell_type": "markdown",
      "metadata": {
        "id": "EkluooxvTZV2"
      },
      "source": [
        "Observation"
      ]
    },
    {
      "cell_type": "code",
      "execution_count": null,
      "metadata": {
        "id": "3Y0VWP9mTZwU"
      },
      "outputs": [],
      "source": [
        "from scipy.io import wavfile as wav\n",
        "wave_sample_rate, wave_audio = wav.read(audio_file_path) "
      ]
    },
    {
      "cell_type": "code",
      "execution_count": null,
      "metadata": {
        "colab": {
          "base_uri": "https://localhost:8080/"
        },
        "id": "UccGLBfFTaRI",
        "outputId": "c957cf3d-9838-4424-bde1-9f725b107ba8"
      },
      "outputs": [
        {
          "data": {
            "text/plain": [
              "array([[   0,    0],\n",
              "       [   0,    0],\n",
              "       [   0,    0],\n",
              "       ...,\n",
              "       [1043, 1043],\n",
              "       [1026, 1026],\n",
              "       [1073, 1073]], dtype=int16)"
            ]
          },
          "execution_count": 8,
          "metadata": {},
          "output_type": "execute_result"
        }
      ],
      "source": [
        "wave_audio"
      ]
    },
    {
      "cell_type": "code",
      "execution_count": null,
      "metadata": {
        "colab": {
          "base_uri": "https://localhost:8080/",
          "height": 300
        },
        "id": "bQYosal0TfJE",
        "outputId": "a7756ef3-1cac-4f8d-a5ad-3ee28207b31d"
      },
      "outputs": [
        {
          "data": {
            "text/plain": [
              "[<matplotlib.lines.Line2D at 0x7fdeada2bf10>,\n",
              " <matplotlib.lines.Line2D at 0x7fdeae023750>]"
            ]
          },
          "execution_count": 9,
          "metadata": {},
          "output_type": "execute_result"
        },
        {
          "data": {
            "image/png": "[encoded data removed]",
            "text/plain": [
              "<Figure size 864x288 with 1 Axes>"
            ]
          },
          "metadata": {},
          "output_type": "display_data"
        }
      ],
      "source": [
        "import matplotlib.pyplot as plt\n",
        "\n",
        "# Original audio with 2 channels \n",
        "plt.figure(figsize=(12, 4))\n",
        "plt.plot(wave_audio)"
      ]
    },
    {
      "cell_type": "markdown",
      "metadata": {
        "id": "E7KktYx4Tjao"
      },
      "source": [
        "Extract Features\n"
      ]
    },
    {
      "cell_type": "code",
      "execution_count": null,
      "metadata": {
        "colab": {
          "base_uri": "https://localhost:8080/"
        },
        "id": "k_B3jPvgTlLu",
        "outputId": "3e44c4e0-98de-4513-9771-7ebbd5418f14"
      },
      "outputs": [
        {
          "name": "stdout",
          "output_type": "stream",
          "text": [
            "(40, 28)\n"
          ]
        }
      ],
      "source": [
        "mfccs = librosa.feature.mfcc(y=librosa_audio_data, sr=librosa_sample_rate, n_mfcc=40)\n",
        "print(mfccs.shape)"
      ]
    },
    {
      "cell_type": "code",
      "execution_count": null,
      "metadata": {
        "colab": {
          "base_uri": "https://localhost:8080/"
        },
        "id": "Jk06DHVRTnmo",
        "outputId": "11873a37-dcc7-426d-d1bc-ebadc850963d"
      },
      "outputs": [
        {
          "data": {
            "text/plain": [
              "array([[-3.1895581e+02, -2.3942128e+02, -2.0357265e+02, ...,\n",
              "        -2.0086092e+02, -2.0448689e+02, -2.0722505e+02],\n",
              "       [ 1.3420425e+02,  1.2830580e+02,  1.2176123e+02, ...,\n",
              "         1.0863275e+02,  1.0139013e+02,  1.0701703e+02],\n",
              "       [ 2.0304191e-01,  4.4783659e+00, -3.0841732e+00, ...,\n",
              "        -1.1387668e+01, -5.7280025e+00, -3.3810382e+00],\n",
              "       ...,\n",
              "       [-6.1883860e+00, -3.8724489e+00,  2.4436965e+00, ...,\n",
              "         3.2355461e+00, -1.7571191e+00, -1.1406713e+00],\n",
              "       [ 7.8616667e+00,  5.9473574e-01, -5.7830071e+00, ...,\n",
              "        -4.5311007e+00, -2.4484234e+00, -1.0505850e+00],\n",
              "       [-8.8828011e+00, -2.0356376e+00, -2.3477187e+00, ...,\n",
              "        -7.5166661e-01,  3.9468117e+00,  3.7475438e+00]], dtype=float32)"
            ]
          },
          "execution_count": 11,
          "metadata": {},
          "output_type": "execute_result"
        }
      ],
      "source": [
        "mfccs"
      ]
    },
    {
      "cell_type": "code",
      "execution_count": null,
      "metadata": {
        "colab": {
          "base_uri": "https://localhost:8080/",
          "height": 206
        },
        "id": "GvPUplUkTqz2",
        "outputId": "43ba60f2-11d7-4959-878b-fc901f52b8dc"
      },
      "outputs": [
        {
          "data": {
            "text/html": [
              "\n",
              "  <div id=\"df-80c5e14a-a647-40a5-8957-40016ea751ad\">\n",
              "    <div class=\"colab-df-container\">\n",
              "      <div>\n",
              "<style scoped>\n",
              "    .dataframe tbody tr th:only-of-type {\n",
              "        vertical-align: middle;\n",
              "    }\n",
              "\n",
              "    .dataframe tbody tr th {\n",
              "        vertical-align: top;\n",
              "    }\n",
              "\n",
              "    .dataframe thead th {\n",
              "        text-align: right;\n",
              "    }\n",
              "</style>\n",
              "<table border=\"1\" class=\"dataframe\">\n",
              "  <thead>\n",
              "    <tr style=\"text-align: right;\">\n",
              "      <th></th>\n",
              "      <th>slice_file_name</th>\n",
              "      <th>fsID</th>\n",
              "      <th>start</th>\n",
              "      <th>end</th>\n",
              "      <th>salience</th>\n",
              "      <th>fold</th>\n",
              "      <th>classID</th>\n",
              "      <th>class</th>\n",
              "    </tr>\n",
              "  </thead>\n",
              "  <tbody>\n",
              "    <tr>\n",
              "      <th>0</th>\n",
              "      <td>100032-3-0-0.wav</td>\n",
              "      <td>100032</td>\n",
              "      <td>0.0</td>\n",
              "      <td>0.317551</td>\n",
              "      <td>1</td>\n",
              "      <td>5</td>\n",
              "      <td>3</td>\n",
              "      <td>dog_bark</td>\n",
              "    </tr>\n",
              "    <tr>\n",
              "      <th>1</th>\n",
              "      <td>100263-2-0-117.wav</td>\n",
              "      <td>100263</td>\n",
              "      <td>58.5</td>\n",
              "      <td>62.500000</td>\n",
              "      <td>1</td>\n",
              "      <td>5</td>\n",
              "      <td>2</td>\n",
              "      <td>children_playing</td>\n",
              "    </tr>\n",
              "    <tr>\n",
              "      <th>2</th>\n",
              "      <td>100263-2-0-121.wav</td>\n",
              "      <td>100263</td>\n",
              "      <td>60.5</td>\n",
              "      <td>64.500000</td>\n",
              "      <td>1</td>\n",
              "      <td>5</td>\n",
              "      <td>2</td>\n",
              "      <td>children_playing</td>\n",
              "    </tr>\n",
              "    <tr>\n",
              "      <th>3</th>\n",
              "      <td>100263-2-0-126.wav</td>\n",
              "      <td>100263</td>\n",
              "      <td>63.0</td>\n",
              "      <td>67.000000</td>\n",
              "      <td>1</td>\n",
              "      <td>5</td>\n",
              "      <td>2</td>\n",
              "      <td>children_playing</td>\n",
              "    </tr>\n",
              "    <tr>\n",
              "      <th>4</th>\n",
              "      <td>100263-2-0-137.wav</td>\n",
              "      <td>100263</td>\n",
              "      <td>68.5</td>\n",
              "      <td>72.500000</td>\n",
              "      <td>1</td>\n",
              "      <td>5</td>\n",
              "      <td>2</td>\n",
              "      <td>children_playing</td>\n",
              "    </tr>\n",
              "  </tbody>\n",
              "</table>\n",
              "</div>\n",
              "      <button class=\"colab-df-convert\" onclick=\"convertToInteractive('df-80c5e14a-a647-40a5-8957-40016ea751ad')\"\n",
              "              title=\"Convert this dataframe to an interactive table.\"\n",
              "              style=\"display:none;\">\n",
              "        \n",
              "  <svg xmlns=\"http://www.w3.org/2000/svg\" height=\"24px\"viewBox=\"0 0 24 24\"\n",
              "       width=\"24px\">\n",
              "    <path d=\"M0 0h24v24H0V0z\" fill=\"none\"/>\n",
              "    <path d=\"M18.56 5.44l.94 2.06.94-2.06 2.06-.94-2.06-.94-.94-2.06-.94 2.06-2.06.94zm-11 1L8.5 8.5l.94-2.06 2.06-.94-2.06-.94L8.5 2.5l-.94 2.06-2.06.94zm10 10l.94 2.06.94-2.06 2.06-.94-2.06-.94-.94-2.06-.94 2.06-2.06.94z\"/><path d=\"M17.41 7.96l-1.37-1.37c-.4-.4-.92-.59-1.43-.59-.52 0-1.04.2-1.43.59L10.3 9.45l-7.72 7.72c-.78.78-.78 2.05 0 2.83L4 21.41c.39.39.9.59 1.41.59.51 0 1.02-.2 1.41-.59l7.78-7.78 2.81-2.81c.8-.78.8-2.07 0-2.86zM5.41 20L4 18.59l7.72-7.72 1.47 1.35L5.41 20z\"/>\n",
              "  </svg>\n",
              "      </button>\n",
              "      \n",
              "  <style>\n",
              "    .colab-df-container {\n",
              "      display:flex;\n",
              "      flex-wrap:wrap;\n",
              "      gap: 12px;\n",
              "    }\n",
              "\n",
              "    .colab-df-convert {\n",
              "      background-color: #E8F0FE;\n",
              "      border: none;\n",
              "      border-radius: 50%;\n",
              "      cursor: pointer;\n",
              "      display: none;\n",
              "      fill: #1967D2;\n",
              "      height: 32px;\n",
              "      padding: 0 0 0 0;\n",
              "      width: 32px;\n",
              "    }\n",
              "\n",
              "    .colab-df-convert:hover {\n",
              "      background-color: #E2EBFA;\n",
              "      box-shadow: 0px 1px 2px rgba(60, 64, 67, 0.3), 0px 1px 3px 1px rgba(60, 64, 67, 0.15);\n",
              "      fill: #174EA6;\n",
              "    }\n",
              "\n",
              "    [theme=dark] .colab-df-convert {\n",
              "      background-color: #3B4455;\n",
              "      fill: #D2E3FC;\n",
              "    }\n",
              "\n",
              "    [theme=dark] .colab-df-convert:hover {\n",
              "      background-color: #434B5C;\n",
              "      box-shadow: 0px 1px 3px 1px rgba(0, 0, 0, 0.15);\n",
              "      filter: drop-shadow(0px 1px 2px rgba(0, 0, 0, 0.3));\n",
              "      fill: #FFFFFF;\n",
              "    }\n",
              "  </style>\n",
              "\n",
              "      <script>\n",
              "        const buttonEl =\n",
              "          document.querySelector('#df-80c5e14a-a647-40a5-8957-40016ea751ad button.colab-df-convert');\n",
              "        buttonEl.style.display =\n",
              "          google.colab.kernel.accessAllowed ? 'block' : 'none';\n",
              "\n",
              "        async function convertToInteractive(key) {\n",
              "          const element = document.querySelector('#df-80c5e14a-a647-40a5-8957-40016ea751ad');\n",
              "          const dataTable =\n",
              "            await google.colab.kernel.invokeFunction('convertToInteractive',\n",
              "                                                     [key], {});\n",
              "          if (!dataTable) return;\n",
              "\n",
              "          const docLinkHtml = 'Like what you see? Visit the ' +\n",
              "            '<a target=\"_blank\" href=https://colab.research.google.com/notebooks/data_table.ipynb>data table notebook</a>'\n",
              "            + ' to learn more about interactive tables.';\n",
              "          element.innerHTML = '';\n",
              "          dataTable['output_type'] = 'display_data';\n",
              "          await google.colab.output.renderOutput(dataTable, element);\n",
              "          const docLink = document.createElement('div');\n",
              "          docLink.innerHTML = docLinkHtml;\n",
              "          element.appendChild(docLink);\n",
              "        }\n",
              "      </script>\n",
              "    </div>\n",
              "  </div>\n",
              "  "
            ],
            "text/plain": [
              "      slice_file_name    fsID  start        end  salience  fold  classID  \\\n",
              "0    100032-3-0-0.wav  100032    0.0   0.317551         1     5        3   \n",
              "1  100263-2-0-117.wav  100263   58.5  62.500000         1     5        2   \n",
              "2  100263-2-0-121.wav  100263   60.5  64.500000         1     5        2   \n",
              "3  100263-2-0-126.wav  100263   63.0  67.000000         1     5        2   \n",
              "4  100263-2-0-137.wav  100263   68.5  72.500000         1     5        2   \n",
              "\n",
              "              class  \n",
              "0          dog_bark  \n",
              "1  children_playing  \n",
              "2  children_playing  \n",
              "3  children_playing  \n",
              "4  children_playing  "
            ]
          },
          "execution_count": 12,
          "metadata": {},
          "output_type": "execute_result"
        }
      ],
      "source": [
        "import pandas as pd\n",
        "import os\n",
        "import librosa\n",
        "\n",
        "audio_dataset_path='/content/drive/MyDrive/stageactia/UrbanSound8K/audio'\n",
        "metadata=pd.read_csv('/content/drive/MyDrive/stageactia/UrbanSound8K/metadata/UrbanSound8K.csv')\n",
        "metadata.head()"
      ]
    },
    {
      "cell_type": "code",
      "execution_count": null,
      "metadata": {
        "id": "688I4IyiT5qY"
      },
      "outputs": [],
      "source": [
        "def features_extractor(file):\n",
        "    audio, sample_rate = librosa.load(file_name, res_type='kaiser_fast') \n",
        "    mfccs_features = librosa.feature.mfcc(y=audio, sr=sample_rate, n_mfcc=40)\n",
        "    mfccs_scaled_features = np.mean(mfccs_features.T,axis=0)\n",
        "    \n",
        "    return mfccs_scaled_features\n",
        "    "
      ]
    },
    {
      "cell_type": "code",
      "execution_count": null,
      "metadata": {
        "colab": {
          "background_save": true,
          "base_uri": "https://localhost:8080/"
        },
        "id": "-nk4Th9kT8IU",
        "outputId": "dd639ffe-5a02-4af3-de63-5613aa2ec944"
      },
      "outputs": [
        {
          "name": "stderr",
          "output_type": "stream",
          "text": [
            "3555it [20:47,  2.98it/s]/usr/local/lib/python3.7/dist-packages/librosa/core/spectrum.py:224: UserWarning: n_fft=2048 is too small for input signal of length=1323\n",
            "  n_fft, y.shape[-1]\n",
            "8326it [46:22,  4.28it/s]/usr/local/lib/python3.7/dist-packages/librosa/core/spectrum.py:224: UserWarning: n_fft=2048 is too small for input signal of length=1103\n",
            "  n_fft, y.shape[-1]\n",
            "8329it [46:23,  4.52it/s]/usr/local/lib/python3.7/dist-packages/librosa/core/spectrum.py:224: UserWarning: n_fft=2048 is too small for input signal of length=1523\n",
            "  n_fft, y.shape[-1]\n",
            "8732it [48:25,  3.00it/s]\n"
          ]
        }
      ],
      "source": [
        "import numpy as np\n",
        "from tqdm import tqdm\n",
        "extracted_features=[]\n",
        "for index_num,row in tqdm(metadata.iterrows()):\n",
        "    file_name = os.path.join(os.path.abspath(audio_dataset_path),'fold'+str(row[\"fold\"])+'/',str(row[\"slice_file_name\"]))\n",
        "    final_class_labels=row[\"class\"]\n",
        "    data=features_extractor(file_name)\n",
        "    extracted_features.append([data,final_class_labels])"
      ]
    },
    {
      "cell_type": "code",
      "execution_count": null,
      "metadata": {
        "colab": {
          "background_save": true
        },
        "id": "_5uhzGkaO4On",
        "outputId": "e283a447-71ae-4f36-bc82-a7cdf616f4a0"
      },
      "outputs": [
        {
          "data": {
            "text/html": [
              "\n",
              "  <div id=\"df-cc3c054b-4184-43b5-aad8-4b40673799b0\">\n",
              "    <div class=\"colab-df-container\">\n",
              "      <div>\n",
              "<style scoped>\n",
              "    .dataframe tbody tr th:only-of-type {\n",
              "        vertical-align: middle;\n",
              "    }\n",
              "\n",
              "    .dataframe tbody tr th {\n",
              "        vertical-align: top;\n",
              "    }\n",
              "\n",
              "    .dataframe thead th {\n",
              "        text-align: right;\n",
              "    }\n",
              "</style>\n",
              "<table border=\"1\" class=\"dataframe\">\n",
              "  <thead>\n",
              "    <tr style=\"text-align: right;\">\n",
              "      <th></th>\n",
              "      <th>feature</th>\n",
              "      <th>class</th>\n",
              "    </tr>\n",
              "  </thead>\n",
              "  <tbody>\n",
              "    <tr>\n",
              "      <th>0</th>\n",
              "      <td>[-214.95764, 70.502464, -130.70279, -53.116936...</td>\n",
              "      <td>dog_bark</td>\n",
              "    </tr>\n",
              "    <tr>\n",
              "      <th>1</th>\n",
              "      <td>[-423.7311, 109.2299, -52.872597, 60.827538, 0...</td>\n",
              "      <td>children_playing</td>\n",
              "    </tr>\n",
              "    <tr>\n",
              "      <th>2</th>\n",
              "      <td>[-458.52844, 121.35432, -46.535675, 51.969467,...</td>\n",
              "      <td>children_playing</td>\n",
              "    </tr>\n",
              "    <tr>\n",
              "      <th>3</th>\n",
              "      <td>[-413.63254, 101.61351, -35.43868, 53.047146, ...</td>\n",
              "      <td>children_playing</td>\n",
              "    </tr>\n",
              "    <tr>\n",
              "      <th>4</th>\n",
              "      <td>[-446.38693, 113.68634, -52.4572, 60.349724, 2...</td>\n",
              "      <td>children_playing</td>\n",
              "    </tr>\n",
              "  </tbody>\n",
              "</table>\n",
              "</div>\n",
              "      <button class=\"colab-df-convert\" onclick=\"convertToInteractive('df-cc3c054b-4184-43b5-aad8-4b40673799b0')\"\n",
              "              title=\"Convert this dataframe to an interactive table.\"\n",
              "              style=\"display:none;\">\n",
              "        \n",
              "  <svg xmlns=\"http://www.w3.org/2000/svg\" height=\"24px\"viewBox=\"0 0 24 24\"\n",
              "       width=\"24px\">\n",
              "    <path d=\"M0 0h24v24H0V0z\" fill=\"none\"/>\n",
              "    <path d=\"M18.56 5.44l.94 2.06.94-2.06 2.06-.94-2.06-.94-.94-2.06-.94 2.06-2.06.94zm-11 1L8.5 8.5l.94-2.06 2.06-.94-2.06-.94L8.5 2.5l-.94 2.06-2.06.94zm10 10l.94 2.06.94-2.06 2.06-.94-2.06-.94-.94-2.06-.94 2.06-2.06.94z\"/><path d=\"M17.41 7.96l-1.37-1.37c-.4-.4-.92-.59-1.43-.59-.52 0-1.04.2-1.43.59L10.3 9.45l-7.72 7.72c-.78.78-.78 2.05 0 2.83L4 21.41c.39.39.9.59 1.41.59.51 0 1.02-.2 1.41-.59l7.78-7.78 2.81-2.81c.8-.78.8-2.07 0-2.86zM5.41 20L4 18.59l7.72-7.72 1.47 1.35L5.41 20z\"/>\n",
              "  </svg>\n",
              "      </button>\n",
              "      \n",
              "  <style>\n",
              "    .colab-df-container {\n",
              "      display:flex;\n",
              "      flex-wrap:wrap;\n",
              "      gap: 12px;\n",
              "    }\n",
              "\n",
              "    .colab-df-convert {\n",
              "      background-color: #E8F0FE;\n",
              "      border: none;\n",
              "      border-radius: 50%;\n",
              "      cursor: pointer;\n",
              "      display: none;\n",
              "      fill: #1967D2;\n",
              "      height: 32px;\n",
              "      padding: 0 0 0 0;\n",
              "      width: 32px;\n",
              "    }\n",
              "\n",
              "    .colab-df-convert:hover {\n",
              "      background-color: #E2EBFA;\n",
              "      box-shadow: 0px 1px 2px rgba(60, 64, 67, 0.3), 0px 1px 3px 1px rgba(60, 64, 67, 0.15);\n",
              "      fill: #174EA6;\n",
              "    }\n",
              "\n",
              "    [theme=dark] .colab-df-convert {\n",
              "      background-color: #3B4455;\n",
              "      fill: #D2E3FC;\n",
              "    }\n",
              "\n",
              "    [theme=dark] .colab-df-convert:hover {\n",
              "      background-color: #434B5C;\n",
              "      box-shadow: 0px 1px 3px 1px rgba(0, 0, 0, 0.15);\n",
              "      filter: drop-shadow(0px 1px 2px rgba(0, 0, 0, 0.3));\n",
              "      fill: #FFFFFF;\n",
              "    }\n",
              "  </style>\n",
              "\n",
              "      <script>\n",
              "        const buttonEl =\n",
              "          document.querySelector('#df-cc3c054b-4184-43b5-aad8-4b40673799b0 button.colab-df-convert');\n",
              "        buttonEl.style.display =\n",
              "          google.colab.kernel.accessAllowed ? 'block' : 'none';\n",
              "\n",
              "        async function convertToInteractive(key) {\n",
              "          const element = document.querySelector('#df-cc3c054b-4184-43b5-aad8-4b40673799b0');\n",
              "          const dataTable =\n",
              "            await google.colab.kernel.invokeFunction('convertToInteractive',\n",
              "                                                     [key], {});\n",
              "          if (!dataTable) return;\n",
              "\n",
              "          const docLinkHtml = 'Like what you see? Visit the ' +\n",
              "            '<a target=\"_blank\" href=https://colab.research.google.com/notebooks/data_table.ipynb>data table notebook</a>'\n",
              "            + ' to learn more about interactive tables.';\n",
              "          element.innerHTML = '';\n",
              "          dataTable['output_type'] = 'display_data';\n",
              "          await google.colab.output.renderOutput(dataTable, element);\n",
              "          const docLink = document.createElement('div');\n",
              "          docLink.innerHTML = docLinkHtml;\n",
              "          element.appendChild(docLink);\n",
              "        }\n",
              "      </script>\n",
              "    </div>\n",
              "  </div>\n",
              "  "
            ],
            "text/plain": [
              "                                             feature             class\n",
              "0  [-214.95764, 70.502464, -130.70279, -53.116936...          dog_bark\n",
              "1  [-423.7311, 109.2299, -52.872597, 60.827538, 0...  children_playing\n",
              "2  [-458.52844, 121.35432, -46.535675, 51.969467,...  children_playing\n",
              "3  [-413.63254, 101.61351, -35.43868, 53.047146, ...  children_playing\n",
              "4  [-446.38693, 113.68634, -52.4572, 60.349724, 2...  children_playing"
            ]
          },
          "execution_count": 15,
          "metadata": {},
          "output_type": "execute_result"
        }
      ],
      "source": [
        "extracted_features_df=pd.DataFrame(extracted_features,columns=['feature','class'])\n",
        "extracted_features_df.head()"
      ]
    },
    {
      "cell_type": "code",
      "execution_count": null,
      "metadata": {
        "colab": {
          "background_save": true
        },
        "id": "HnhwzY07kg-i"
      },
      "outputs": [],
      "source": [
        "X=np.array(extracted_features_df['feature'].tolist())\n",
        "y=np.array(extracted_features_df['class'].tolist())"
      ]
    },
    {
      "cell_type": "code",
      "execution_count": null,
      "metadata": {
        "colab": {
          "background_save": true
        },
        "id": "6SbGEVpCkj9Q",
        "outputId": "364be7d5-cd5f-448d-f7d7-8bc633aeb342"
      },
      "outputs": [
        {
          "data": {
            "text/plain": [
              "(8732, 40)"
            ]
          },
          "execution_count": 17,
          "metadata": {},
          "output_type": "execute_result"
        }
      ],
      "source": [
        "\n",
        "X.shape"
      ]
    },
    {
      "cell_type": "code",
      "execution_count": null,
      "metadata": {
        "colab": {
          "background_save": true
        },
        "id": "PzpZDW7gkn-k",
        "outputId": "17e753ff-f99b-4875-a23f-8b1836b3eab5"
      },
      "outputs": [
        {
          "data": {
            "text/plain": [
              "array(['dog_bark', 'children_playing', 'children_playing', ...,\n",
              "       'car_horn', 'car_horn', 'car_horn'], dtype='<U16')"
            ]
          },
          "execution_count": 18,
          "metadata": {},
          "output_type": "execute_result"
        }
      ],
      "source": [
        "y\n"
      ]
    },
    {
      "cell_type": "code",
      "execution_count": null,
      "metadata": {
        "colab": {
          "background_save": true
        },
        "id": "18GFDWMsldED"
      },
      "outputs": [],
      "source": [
        "from tensorflow.keras.utils import to_categorical\n",
        "from sklearn.preprocessing import LabelEncoder\n",
        "labelencoder=LabelEncoder()\n",
        "y=to_categorical(labelencoder.fit_transform(y))"
      ]
    },
    {
      "cell_type": "code",
      "execution_count": null,
      "metadata": {
        "colab": {
          "background_save": true
        },
        "id": "LP1pigvIlmEf",
        "outputId": "9484404b-2b49-4c76-85a4-3c6914b3cf71"
      },
      "outputs": [
        {
          "data": {
            "text/plain": [
              "array([[0., 0., 0., ..., 0., 0., 0.],\n",
              "       [0., 0., 1., ..., 0., 0., 0.],\n",
              "       [0., 0., 1., ..., 0., 0., 0.],\n",
              "       ...,\n",
              "       [0., 1., 0., ..., 0., 0., 0.],\n",
              "       [0., 1., 0., ..., 0., 0., 0.],\n",
              "       [0., 1., 0., ..., 0., 0., 0.]], dtype=float32)"
            ]
          },
          "execution_count": 20,
          "metadata": {},
          "output_type": "execute_result"
        }
      ],
      "source": [
        "y"
      ]
    },
    {
      "cell_type": "code",
      "execution_count": null,
      "metadata": {
        "colab": {
          "background_save": true
        },
        "id": "4CrAzdGnltDZ"
      },
      "outputs": [],
      "source": [
        "from sklearn.model_selection import train_test_split\n",
        "X_train,X_test,y_train,y_test=train_test_split(X,y,test_size=0.2,random_state=0)"
      ]
    },
    {
      "cell_type": "code",
      "execution_count": null,
      "metadata": {
        "colab": {
          "background_save": true
        },
        "id": "k9voaEHKlu_a",
        "outputId": "451c70f6-0921-4c02-a738-bcf2aa668377"
      },
      "outputs": [
        {
          "data": {
            "text/plain": [
              "array([[-1.3082390e+02,  1.1256225e+02, -2.2600878e+01, ...,\n",
              "         3.2528090e+00, -1.3692100e+00,  2.7386472e+00],\n",
              "       [-1.3446434e+01,  9.1048195e+01, -7.8661475e+00, ...,\n",
              "        -3.2665925e+00, -5.2884049e+00, -1.5532947e+00],\n",
              "       [-4.9575279e+01,  2.3543632e-01, -2.0504959e+01, ...,\n",
              "         2.8775635e+00, -1.5828822e+00,  3.5109408e+00],\n",
              "       ...,\n",
              "       [-4.2677444e+02,  9.2583252e+01,  3.3174915e+00, ...,\n",
              "         7.9330587e-01,  7.1890557e-01,  7.1397954e-01],\n",
              "       [-1.4541722e+02,  1.3619025e+02, -3.3450352e+01, ...,\n",
              "         1.4591718e+00, -1.9928970e+00, -8.9318532e-01],\n",
              "       [-4.2099823e+02,  2.1074756e+02,  3.5814035e+00, ...,\n",
              "        -5.4054909e+00, -3.3959775e+00, -1.5590975e+00]], dtype=float32)"
            ]
          },
          "execution_count": 22,
          "metadata": {},
          "output_type": "execute_result"
        }
      ],
      "source": [
        "X_train"
      ]
    },
    {
      "cell_type": "code",
      "execution_count": null,
      "metadata": {
        "colab": {
          "background_save": true
        },
        "id": "y_nv0g6zlyTp",
        "outputId": "a9940509-8f58-48e3-f2c2-b69a4afdc468"
      },
      "outputs": [
        {
          "data": {
            "text/plain": [
              "array([[0., 0., 0., ..., 0., 0., 0.],\n",
              "       [0., 0., 1., ..., 0., 0., 0.],\n",
              "       [0., 0., 1., ..., 0., 0., 0.],\n",
              "       ...,\n",
              "       [0., 1., 0., ..., 0., 0., 0.],\n",
              "       [0., 1., 0., ..., 0., 0., 0.],\n",
              "       [0., 1., 0., ..., 0., 0., 0.]], dtype=float32)"
            ]
          },
          "execution_count": 23,
          "metadata": {},
          "output_type": "execute_result"
        }
      ],
      "source": [
        "y"
      ]
    },
    {
      "cell_type": "code",
      "execution_count": null,
      "metadata": {
        "colab": {
          "background_save": true
        },
        "id": "Yhm_EnwJl0SI",
        "outputId": "8af19d06-9c64-4e51-8957-9e992540065c"
      },
      "outputs": [
        {
          "data": {
            "text/plain": [
              "(6985, 40)"
            ]
          },
          "execution_count": 24,
          "metadata": {},
          "output_type": "execute_result"
        }
      ],
      "source": [
        "X_train.shape"
      ]
    },
    {
      "cell_type": "code",
      "execution_count": null,
      "metadata": {
        "colab": {
          "background_save": true
        },
        "id": "E9RP0qCbl0cL",
        "outputId": "3beb31f8-03d4-4ff0-b705-a7886e7b1f39"
      },
      "outputs": [
        {
          "data": {
            "text/plain": [
              "(1747, 40)"
            ]
          },
          "execution_count": 25,
          "metadata": {},
          "output_type": "execute_result"
        }
      ],
      "source": [
        "X_test.shape"
      ]
    },
    {
      "cell_type": "code",
      "execution_count": null,
      "metadata": {
        "colab": {
          "background_save": true
        },
        "id": "bcsbCP53l29r",
        "outputId": "7a8df5cf-6bab-4345-e63d-5d500a58114f"
      },
      "outputs": [
        {
          "data": {
            "text/plain": [
              "(6985, 10)"
            ]
          },
          "execution_count": 26,
          "metadata": {},
          "output_type": "execute_result"
        }
      ],
      "source": [
        "y_train.shape"
      ]
    },
    {
      "cell_type": "code",
      "execution_count": null,
      "metadata": {
        "colab": {
          "background_save": true
        },
        "id": "4OB8F1WIl3Pq",
        "outputId": "d98bcaed-4506-4e23-965b-85a78644cc95"
      },
      "outputs": [
        {
          "data": {
            "text/plain": [
              "(1747, 10)"
            ]
          },
          "execution_count": 27,
          "metadata": {},
          "output_type": "execute_result"
        }
      ],
      "source": [
        "y_test.shape"
      ]
    },
    {
      "cell_type": "markdown",
      "metadata": {
        "id": "zcqfnI9cl6fH"
      },
      "source": [
        "Model Creation\n"
      ]
    },
    {
      "cell_type": "code",
      "execution_count": null,
      "metadata": {
        "colab": {
          "background_save": true
        },
        "id": "sMNEnAlQl-cI",
        "outputId": "696970b5-2b9b-478e-f140-8a5024e403d7"
      },
      "outputs": [
        {
          "name": "stdout",
          "output_type": "stream",
          "text": [
            "2.8.2\n"
          ]
        }
      ],
      "source": [
        "import tensorflow as tf\n",
        "print(tf.__version__)"
      ]
    },
    {
      "cell_type": "code",
      "execution_count": null,
      "metadata": {
        "colab": {
          "background_save": true
        },
        "id": "F3bDXCaCmBVP"
      },
      "outputs": [],
      "source": [
        "from tensorflow.keras.models import Sequential\n",
        "from tensorflow.keras.layers import Dense,Dropout,Activation,Flatten\n",
        "from tensorflow.keras.optimizers import Adam\n",
        "from sklearn import metrics"
      ]
    },
    {
      "cell_type": "code",
      "execution_count": null,
      "metadata": {
        "colab": {
          "background_save": true
        },
        "id": "8n7idW-RmDTd"
      },
      "outputs": [],
      "source": [
        "num_labels=y.shape[1]"
      ]
    },
    {
      "cell_type": "code",
      "execution_count": null,
      "metadata": {
        "colab": {
          "background_save": true
        },
        "id": "OBirZJHImG-k"
      },
      "outputs": [],
      "source": [
        "model=Sequential()\n",
        "###first layer\n",
        "model.add(Dense(100,input_shape=(40,)))\n",
        "model.add(Activation('relu'))\n",
        "model.add(Dropout(0.5))\n",
        "###second layer\n",
        "model.add(Dense(200))\n",
        "model.add(Activation('relu'))\n",
        "model.add(Dropout(0.5))\n",
        "###third layer\n",
        "model.add(Dense(100))\n",
        "model.add(Activation('relu'))\n",
        "model.add(Dropout(0.5))\n",
        "\n",
        "###final layer\n",
        "model.add(Dense(num_labels))\n",
        "model.add(Activation('sigmoid'))"
      ]
    },
    {
      "cell_type": "code",
      "execution_count": null,
      "metadata": {
        "colab": {
          "background_save": true
        },
        "id": "t1r9Dou0mJhT",
        "outputId": "64362583-b809-4921-980f-91ef7335e1e4"
      },
      "outputs": [
        {
          "name": "stdout",
          "output_type": "stream",
          "text": [
            "Model: \"sequential\"\n",
            "_________________________________________________________________\n",
            " Layer (type)                Output Shape              Param #   \n",
            "=================================================================\n",
            " dense (Dense)               (None, 100)               4100      \n",
            "                                                                 \n",
            " activation (Activation)     (None, 100)               0         \n",
            "                                                                 \n",
            " dropout (Dropout)           (None, 100)               0         \n",
            "                                                                 \n",
            " dense_1 (Dense)             (None, 200)               20200     \n",
            "                                                                 \n",
            " activation_1 (Activation)   (None, 200)               0         \n",
            "                                                                 \n",
            " dropout_1 (Dropout)         (None, 200)               0         \n",
            "                                                                 \n",
            " dense_2 (Dense)             (None, 100)               20100     \n",
            "                                                                 \n",
            " activation_2 (Activation)   (None, 100)               0         \n",
            "                                                                 \n",
            " dropout_2 (Dropout)         (None, 100)               0         \n",
            "                                                                 \n",
            " dense_3 (Dense)             (None, 10)                1010      \n",
            "                                                                 \n",
            " activation_3 (Activation)   (None, 10)                0         \n",
            "                                                                 \n",
            "=================================================================\n",
            "Total params: 45,410\n",
            "Trainable params: 45,410\n",
            "Non-trainable params: 0\n",
            "_________________________________________________________________\n"
          ]
        }
      ],
      "source": [
        "model.summary()"
      ]
    },
    {
      "cell_type": "code",
      "execution_count": null,
      "metadata": {
        "colab": {
          "background_save": true
        },
        "id": "DYk3jYOQmR3T"
      },
      "outputs": [],
      "source": [
        "model.compile(loss='categorical_crossentropy',metrics=['accuracy'],optimizer='adam')\n"
      ]
    },
    {
      "cell_type": "code",
      "execution_count": null,
      "metadata": {
        "colab": {
          "background_save": true
        },
        "id": "qz9PNxthmb8T",
        "outputId": "992a7c4c-67d8-46c2-b58c-0a71fb127288"
      },
      "outputs": [
        {
          "name": "stdout",
          "output_type": "stream",
          "text": [
            "Epoch 1/100\n",
            "209/219 [===========================>..] - ETA: 0s - loss: 10.6071 - accuracy: 0.1257\n",
            "Epoch 1: val_loss improved from inf to 2.28563, saving model to saved_models/audio_classification.hdf5\n",
            "219/219 [==============================] - 2s 5ms/step - loss: 10.2827 - accuracy: 0.1258 - val_loss: 2.2856 - val_accuracy: 0.1208\n",
            "Epoch 2/100\n",
            "213/219 [============================>.] - ETA: 0s - loss: 2.5578 - accuracy: 0.1291\n",
            "Epoch 2: val_loss improved from 2.28563 to 2.27622, saving model to saved_models/audio_classification.hdf5\n",
            "219/219 [==============================] - 1s 4ms/step - loss: 2.5542 - accuracy: 0.1290 - val_loss: 2.2762 - val_accuracy: 0.1088\n",
            "Epoch 3/100\n",
            "212/219 [============================>.] - ETA: 0s - loss: 2.3359 - accuracy: 0.1263\n",
            "Epoch 3: val_loss improved from 2.27622 to 2.20795, saving model to saved_models/audio_classification.hdf5\n",
            "219/219 [==============================] - 1s 3ms/step - loss: 2.3360 - accuracy: 0.1248 - val_loss: 2.2079 - val_accuracy: 0.1294\n",
            "Epoch 4/100\n",
            "216/219 [============================>.] - ETA: 0s - loss: 2.2584 - accuracy: 0.1508\n",
            "Epoch 4: val_loss improved from 2.20795 to 2.15230, saving model to saved_models/audio_classification.hdf5\n",
            "219/219 [==============================] - 1s 4ms/step - loss: 2.2594 - accuracy: 0.1509 - val_loss: 2.1523 - val_accuracy: 0.1809\n",
            "Epoch 5/100\n",
            "215/219 [============================>.] - ETA: 0s - loss: 2.2055 - accuracy: 0.1613\n",
            "Epoch 5: val_loss improved from 2.15230 to 2.12057, saving model to saved_models/audio_classification.hdf5\n",
            "219/219 [==============================] - 1s 4ms/step - loss: 2.2046 - accuracy: 0.1621 - val_loss: 2.1206 - val_accuracy: 0.1826\n",
            "Epoch 6/100\n",
            "207/219 [===========================>..] - ETA: 0s - loss: 2.1607 - accuracy: 0.1796\n",
            "Epoch 6: val_loss improved from 2.12057 to 2.07377, saving model to saved_models/audio_classification.hdf5\n",
            "219/219 [==============================] - 1s 3ms/step - loss: 2.1601 - accuracy: 0.1771 - val_loss: 2.0738 - val_accuracy: 0.2015\n",
            "Epoch 7/100\n",
            "206/219 [===========================>..] - ETA: 0s - loss: 2.1280 - accuracy: 0.1848\n",
            "Epoch 7: val_loss improved from 2.07377 to 2.03820, saving model to saved_models/audio_classification.hdf5\n",
            "219/219 [==============================] - 1s 4ms/step - loss: 2.1279 - accuracy: 0.1845 - val_loss: 2.0382 - val_accuracy: 0.2095\n",
            "Epoch 8/100\n",
            "219/219 [==============================] - ETA: 0s - loss: 2.1057 - accuracy: 0.1980\n",
            "Epoch 8: val_loss improved from 2.03820 to 2.00436, saving model to saved_models/audio_classification.hdf5\n",
            "219/219 [==============================] - 1s 4ms/step - loss: 2.1057 - accuracy: 0.1980 - val_loss: 2.0044 - val_accuracy: 0.2645\n",
            "Epoch 9/100\n",
            "214/219 [============================>.] - ETA: 0s - loss: 2.0713 - accuracy: 0.2223\n",
            "Epoch 9: val_loss improved from 2.00436 to 1.98487, saving model to saved_models/audio_classification.hdf5\n",
            "219/219 [==============================] - 1s 4ms/step - loss: 2.0690 - accuracy: 0.2229 - val_loss: 1.9849 - val_accuracy: 0.2759\n",
            "Epoch 10/100\n",
            "211/219 [===========================>..] - ETA: 0s - loss: 2.0364 - accuracy: 0.2288\n",
            "Epoch 10: val_loss improved from 1.98487 to 1.88686, saving model to saved_models/audio_classification.hdf5\n",
            "219/219 [==============================] - 1s 3ms/step - loss: 2.0371 - accuracy: 0.2291 - val_loss: 1.8869 - val_accuracy: 0.3223\n",
            "Epoch 11/100\n",
            "210/219 [===========================>..] - ETA: 0s - loss: 1.9833 - accuracy: 0.2554\n",
            "Epoch 11: val_loss improved from 1.88686 to 1.82458, saving model to saved_models/audio_classification.hdf5\n",
            "219/219 [==============================] - 1s 4ms/step - loss: 1.9853 - accuracy: 0.2557 - val_loss: 1.8246 - val_accuracy: 0.3400\n",
            "Epoch 12/100\n",
            "214/219 [============================>.] - ETA: 0s - loss: 1.9011 - accuracy: 0.2910\n",
            "Epoch 12: val_loss improved from 1.82458 to 1.73711, saving model to saved_models/audio_classification.hdf5\n",
            "219/219 [==============================] - 1s 4ms/step - loss: 1.9001 - accuracy: 0.2911 - val_loss: 1.7371 - val_accuracy: 0.3492\n",
            "Epoch 13/100\n",
            "212/219 [============================>.] - ETA: 0s - loss: 1.8778 - accuracy: 0.3078\n",
            "Epoch 13: val_loss improved from 1.73711 to 1.69238, saving model to saved_models/audio_classification.hdf5\n",
            "219/219 [==============================] - 1s 3ms/step - loss: 1.8796 - accuracy: 0.3072 - val_loss: 1.6924 - val_accuracy: 0.3835\n",
            "Epoch 14/100\n",
            "200/219 [==========================>...] - ETA: 0s - loss: 1.8153 - accuracy: 0.3345\n",
            "Epoch 14: val_loss improved from 1.69238 to 1.65334, saving model to saved_models/audio_classification.hdf5\n",
            "219/219 [==============================] - 1s 3ms/step - loss: 1.8140 - accuracy: 0.3336 - val_loss: 1.6533 - val_accuracy: 0.4339\n",
            "Epoch 15/100\n",
            "208/219 [===========================>..] - ETA: 0s - loss: 1.7648 - accuracy: 0.3513\n",
            "Epoch 15: val_loss improved from 1.65334 to 1.59630, saving model to saved_models/audio_classification.hdf5\n",
            "219/219 [==============================] - 1s 4ms/step - loss: 1.7666 - accuracy: 0.3496 - val_loss: 1.5963 - val_accuracy: 0.4488\n",
            "Epoch 16/100\n",
            "218/219 [============================>.] - ETA: 0s - loss: 1.7418 - accuracy: 0.3605\n",
            "Epoch 16: val_loss improved from 1.59630 to 1.54955, saving model to saved_models/audio_classification.hdf5\n",
            "219/219 [==============================] - 1s 4ms/step - loss: 1.7422 - accuracy: 0.3606 - val_loss: 1.5496 - val_accuracy: 0.4711\n",
            "Epoch 17/100\n",
            "218/219 [============================>.] - ETA: 0s - loss: 1.6891 - accuracy: 0.3919\n",
            "Epoch 17: val_loss improved from 1.54955 to 1.47723, saving model to saved_models/audio_classification.hdf5\n",
            "219/219 [==============================] - 1s 4ms/step - loss: 1.6886 - accuracy: 0.3921 - val_loss: 1.4772 - val_accuracy: 0.5146\n",
            "Epoch 18/100\n",
            "201/219 [==========================>...] - ETA: 0s - loss: 1.6708 - accuracy: 0.4016\n",
            "Epoch 18: val_loss improved from 1.47723 to 1.44397, saving model to saved_models/audio_classification.hdf5\n",
            "219/219 [==============================] - 1s 4ms/step - loss: 1.6622 - accuracy: 0.4030 - val_loss: 1.4440 - val_accuracy: 0.5260\n",
            "Epoch 19/100\n",
            "209/219 [===========================>..] - ETA: 0s - loss: 1.5810 - accuracy: 0.4400\n",
            "Epoch 19: val_loss improved from 1.44397 to 1.41111, saving model to saved_models/audio_classification.hdf5\n",
            "219/219 [==============================] - 1s 4ms/step - loss: 1.5780 - accuracy: 0.4391 - val_loss: 1.4111 - val_accuracy: 0.5289\n",
            "Epoch 20/100\n",
            "207/219 [===========================>..] - ETA: 0s - loss: 1.5948 - accuracy: 0.4289\n",
            "Epoch 20: val_loss improved from 1.41111 to 1.35326, saving model to saved_models/audio_classification.hdf5\n",
            "219/219 [==============================] - 1s 3ms/step - loss: 1.5898 - accuracy: 0.4288 - val_loss: 1.3533 - val_accuracy: 0.5638\n",
            "Epoch 21/100\n",
            "206/219 [===========================>..] - ETA: 0s - loss: 1.5448 - accuracy: 0.4533\n",
            "Epoch 21: val_loss improved from 1.35326 to 1.33433, saving model to saved_models/audio_classification.hdf5\n",
            "219/219 [==============================] - 1s 3ms/step - loss: 1.5443 - accuracy: 0.4523 - val_loss: 1.3343 - val_accuracy: 0.5707\n",
            "Epoch 22/100\n",
            "219/219 [==============================] - ETA: 0s - loss: 1.5115 - accuracy: 0.4683\n",
            "Epoch 22: val_loss improved from 1.33433 to 1.28319, saving model to saved_models/audio_classification.hdf5\n",
            "219/219 [==============================] - 1s 3ms/step - loss: 1.5115 - accuracy: 0.4683 - val_loss: 1.2832 - val_accuracy: 0.5850\n",
            "Epoch 23/100\n",
            "211/219 [===========================>..] - ETA: 0s - loss: 1.4756 - accuracy: 0.4803\n",
            "Epoch 23: val_loss improved from 1.28319 to 1.28288, saving model to saved_models/audio_classification.hdf5\n",
            "219/219 [==============================] - 1s 4ms/step - loss: 1.4761 - accuracy: 0.4817 - val_loss: 1.2829 - val_accuracy: 0.5844\n",
            "Epoch 24/100\n",
            "216/219 [============================>.] - ETA: 0s - loss: 1.4590 - accuracy: 0.4877\n",
            "Epoch 24: val_loss improved from 1.28288 to 1.25546, saving model to saved_models/audio_classification.hdf5\n",
            "219/219 [==============================] - 1s 4ms/step - loss: 1.4576 - accuracy: 0.4882 - val_loss: 1.2555 - val_accuracy: 0.5850\n",
            "Epoch 25/100\n",
            "209/219 [===========================>..] - ETA: 0s - loss: 1.4368 - accuracy: 0.4970\n",
            "Epoch 25: val_loss improved from 1.25546 to 1.23488, saving model to saved_models/audio_classification.hdf5\n",
            "219/219 [==============================] - 1s 4ms/step - loss: 1.4399 - accuracy: 0.4956 - val_loss: 1.2349 - val_accuracy: 0.5936\n",
            "Epoch 26/100\n",
            "201/219 [==========================>...] - ETA: 0s - loss: 1.4235 - accuracy: 0.5103\n",
            "Epoch 26: val_loss improved from 1.23488 to 1.21008, saving model to saved_models/audio_classification.hdf5\n",
            "219/219 [==============================] - 1s 3ms/step - loss: 1.4156 - accuracy: 0.5108 - val_loss: 1.2101 - val_accuracy: 0.6022\n",
            "Epoch 27/100\n",
            "203/219 [==========================>...] - ETA: 0s - loss: 1.3830 - accuracy: 0.5151\n",
            "Epoch 27: val_loss improved from 1.21008 to 1.17087, saving model to saved_models/audio_classification.hdf5\n",
            "219/219 [==============================] - 1s 4ms/step - loss: 1.3842 - accuracy: 0.5151 - val_loss: 1.1709 - val_accuracy: 0.6302\n",
            "Epoch 28/100\n",
            "210/219 [===========================>..] - ETA: 0s - loss: 1.3624 - accuracy: 0.5304\n",
            "Epoch 28: val_loss improved from 1.17087 to 1.16670, saving model to saved_models/audio_classification.hdf5\n",
            "219/219 [==============================] - 1s 4ms/step - loss: 1.3653 - accuracy: 0.5288 - val_loss: 1.1667 - val_accuracy: 0.6377\n",
            "Epoch 29/100\n",
            "219/219 [==============================] - ETA: 0s - loss: 1.3507 - accuracy: 0.5359\n",
            "Epoch 29: val_loss improved from 1.16670 to 1.14585, saving model to saved_models/audio_classification.hdf5\n",
            "219/219 [==============================] - 1s 3ms/step - loss: 1.3507 - accuracy: 0.5359 - val_loss: 1.1459 - val_accuracy: 0.6302\n",
            "Epoch 30/100\n",
            "213/219 [============================>.] - ETA: 0s - loss: 1.3442 - accuracy: 0.5370\n",
            "Epoch 30: val_loss did not improve from 1.14585\n",
            "219/219 [==============================] - 1s 3ms/step - loss: 1.3418 - accuracy: 0.5380 - val_loss: 1.2035 - val_accuracy: 0.5953\n",
            "Epoch 31/100\n",
            "215/219 [============================>.] - ETA: 0s - loss: 1.3286 - accuracy: 0.5469\n",
            "Epoch 31: val_loss improved from 1.14585 to 1.12139, saving model to saved_models/audio_classification.hdf5\n",
            "219/219 [==============================] - 1s 4ms/step - loss: 1.3292 - accuracy: 0.5460 - val_loss: 1.1214 - val_accuracy: 0.6262\n",
            "Epoch 32/100\n",
            "215/219 [============================>.] - ETA: 0s - loss: 1.3193 - accuracy: 0.5509\n",
            "Epoch 32: val_loss improved from 1.12139 to 1.09898, saving model to saved_models/audio_classification.hdf5\n",
            "219/219 [==============================] - 1s 4ms/step - loss: 1.3171 - accuracy: 0.5513 - val_loss: 1.0990 - val_accuracy: 0.6531\n",
            "Epoch 33/100\n",
            "205/219 [===========================>..] - ETA: 0s - loss: 1.3009 - accuracy: 0.5503\n",
            "Epoch 33: val_loss did not improve from 1.09898\n",
            "219/219 [==============================] - 1s 4ms/step - loss: 1.3068 - accuracy: 0.5497 - val_loss: 1.1109 - val_accuracy: 0.6405\n",
            "Epoch 34/100\n",
            "206/219 [===========================>..] - ETA: 0s - loss: 1.3016 - accuracy: 0.5590\n",
            "Epoch 34: val_loss improved from 1.09898 to 1.09603, saving model to saved_models/audio_classification.hdf5\n",
            "219/219 [==============================] - 1s 4ms/step - loss: 1.3023 - accuracy: 0.5571 - val_loss: 1.0960 - val_accuracy: 0.6457\n",
            "Epoch 35/100\n",
            "212/219 [============================>.] - ETA: 0s - loss: 1.2532 - accuracy: 0.5727\n",
            "Epoch 35: val_loss improved from 1.09603 to 1.04404, saving model to saved_models/audio_classification.hdf5\n",
            "219/219 [==============================] - 1s 3ms/step - loss: 1.2575 - accuracy: 0.5694 - val_loss: 1.0440 - val_accuracy: 0.6772\n",
            "Epoch 36/100\n",
            "207/219 [===========================>..] - ETA: 0s - loss: 1.2524 - accuracy: 0.5725\n",
            "Epoch 36: val_loss did not improve from 1.04404\n",
            "219/219 [==============================] - 1s 4ms/step - loss: 1.2510 - accuracy: 0.5725 - val_loss: 1.0859 - val_accuracy: 0.6491\n",
            "Epoch 37/100\n",
            "212/219 [============================>.] - ETA: 0s - loss: 1.2425 - accuracy: 0.5762\n",
            "Epoch 37: val_loss did not improve from 1.04404\n",
            "219/219 [==============================] - 1s 3ms/step - loss: 1.2418 - accuracy: 0.5764 - val_loss: 1.0541 - val_accuracy: 0.6543\n",
            "Epoch 38/100\n",
            "218/219 [============================>.] - ETA: 0s - loss: 1.2518 - accuracy: 0.5725\n",
            "Epoch 38: val_loss did not improve from 1.04404\n",
            "219/219 [==============================] - 1s 4ms/step - loss: 1.2522 - accuracy: 0.5727 - val_loss: 1.0726 - val_accuracy: 0.6531\n",
            "Epoch 39/100\n",
            "212/219 [============================>.] - ETA: 0s - loss: 1.2308 - accuracy: 0.5849\n",
            "Epoch 39: val_loss improved from 1.04404 to 1.03085, saving model to saved_models/audio_classification.hdf5\n",
            "219/219 [==============================] - 1s 4ms/step - loss: 1.2329 - accuracy: 0.5851 - val_loss: 1.0308 - val_accuracy: 0.6709\n",
            "Epoch 40/100\n",
            "204/219 [==========================>...] - ETA: 0s - loss: 1.2078 - accuracy: 0.5918\n",
            "Epoch 40: val_loss did not improve from 1.03085\n",
            "219/219 [==============================] - 1s 3ms/step - loss: 1.2103 - accuracy: 0.5921 - val_loss: 1.0370 - val_accuracy: 0.6703\n",
            "Epoch 41/100\n",
            "208/219 [===========================>..] - ETA: 0s - loss: 1.1900 - accuracy: 0.5927\n",
            "Epoch 41: val_loss improved from 1.03085 to 1.02116, saving model to saved_models/audio_classification.hdf5\n",
            "219/219 [==============================] - 1s 4ms/step - loss: 1.1904 - accuracy: 0.5911 - val_loss: 1.0212 - val_accuracy: 0.6806\n",
            "Epoch 42/100\n",
            "215/219 [============================>.] - ETA: 0s - loss: 1.2009 - accuracy: 0.5956\n",
            "Epoch 42: val_loss improved from 1.02116 to 0.99944, saving model to saved_models/audio_classification.hdf5\n",
            "219/219 [==============================] - 1s 4ms/step - loss: 1.2012 - accuracy: 0.5950 - val_loss: 0.9994 - val_accuracy: 0.6846\n",
            "Epoch 43/100\n",
            "203/219 [==========================>...] - ETA: 0s - loss: 1.1957 - accuracy: 0.5905\n",
            "Epoch 43: val_loss improved from 0.99944 to 0.99777, saving model to saved_models/audio_classification.hdf5\n",
            "219/219 [==============================] - 1s 3ms/step - loss: 1.1934 - accuracy: 0.5908 - val_loss: 0.9978 - val_accuracy: 0.6915\n",
            "Epoch 44/100\n",
            "214/219 [============================>.] - ETA: 0s - loss: 1.1555 - accuracy: 0.6048\n",
            "Epoch 44: val_loss did not improve from 0.99777\n",
            "219/219 [==============================] - 1s 3ms/step - loss: 1.1563 - accuracy: 0.6052 - val_loss: 1.0437 - val_accuracy: 0.6680\n",
            "Epoch 45/100\n",
            "200/219 [==========================>...] - ETA: 0s - loss: 1.1918 - accuracy: 0.5987\n",
            "Epoch 45: val_loss improved from 0.99777 to 0.96869, saving model to saved_models/audio_classification.hdf5\n",
            "219/219 [==============================] - 1s 4ms/step - loss: 1.1880 - accuracy: 0.6009 - val_loss: 0.9687 - val_accuracy: 0.7144\n",
            "Epoch 46/100\n",
            "216/219 [============================>.] - ETA: 0s - loss: 1.1618 - accuracy: 0.6055\n",
            "Epoch 46: val_loss did not improve from 0.96869\n",
            "219/219 [==============================] - 1s 4ms/step - loss: 1.1597 - accuracy: 0.6067 - val_loss: 1.0006 - val_accuracy: 0.6886\n",
            "Epoch 47/100\n",
            "212/219 [============================>.] - ETA: 0s - loss: 1.1761 - accuracy: 0.6051\n",
            "Epoch 47: val_loss did not improve from 0.96869\n",
            "219/219 [==============================] - 1s 4ms/step - loss: 1.1784 - accuracy: 0.6046 - val_loss: 0.9774 - val_accuracy: 0.6835\n",
            "Epoch 48/100\n",
            "217/219 [============================>.] - ETA: 0s - loss: 1.1487 - accuracy: 0.6202\n",
            "Epoch 48: val_loss did not improve from 0.96869\n",
            "219/219 [==============================] - 1s 4ms/step - loss: 1.1473 - accuracy: 0.6206 - val_loss: 1.0031 - val_accuracy: 0.6812\n",
            "Epoch 49/100\n",
            "213/219 [============================>.] - ETA: 0s - loss: 1.1375 - accuracy: 0.6168\n",
            "Epoch 49: val_loss did not improve from 0.96869\n",
            "219/219 [==============================] - 1s 4ms/step - loss: 1.1339 - accuracy: 0.6179 - val_loss: 0.9729 - val_accuracy: 0.6949\n",
            "Epoch 50/100\n",
            "205/219 [===========================>..] - ETA: 0s - loss: 1.1186 - accuracy: 0.6248\n",
            "Epoch 50: val_loss improved from 0.96869 to 0.94150, saving model to saved_models/audio_classification.hdf5\n",
            "219/219 [==============================] - 1s 3ms/step - loss: 1.1181 - accuracy: 0.6269 - val_loss: 0.9415 - val_accuracy: 0.7052\n",
            "Epoch 51/100\n",
            "205/219 [===========================>..] - ETA: 0s - loss: 1.1357 - accuracy: 0.6218\n",
            "Epoch 51: val_loss improved from 0.94150 to 0.91849, saving model to saved_models/audio_classification.hdf5\n",
            "219/219 [==============================] - 1s 4ms/step - loss: 1.1321 - accuracy: 0.6236 - val_loss: 0.9185 - val_accuracy: 0.7235\n",
            "Epoch 52/100\n",
            "206/219 [===========================>..] - ETA: 0s - loss: 1.1517 - accuracy: 0.6159\n",
            "Epoch 52: val_loss did not improve from 0.91849\n",
            "219/219 [==============================] - 1s 4ms/step - loss: 1.1490 - accuracy: 0.6178 - val_loss: 0.9768 - val_accuracy: 0.6852\n",
            "Epoch 53/100\n",
            "207/219 [===========================>..] - ETA: 0s - loss: 1.1385 - accuracy: 0.6226\n",
            "Epoch 53: val_loss did not improve from 0.91849\n",
            "219/219 [==============================] - 1s 4ms/step - loss: 1.1328 - accuracy: 0.6242 - val_loss: 0.9519 - val_accuracy: 0.6898\n",
            "Epoch 54/100\n",
            "212/219 [============================>.] - ETA: 0s - loss: 1.1138 - accuracy: 0.6263\n",
            "Epoch 54: val_loss did not improve from 0.91849\n",
            "219/219 [==============================] - 1s 4ms/step - loss: 1.1125 - accuracy: 0.6258 - val_loss: 0.9632 - val_accuracy: 0.6909\n",
            "Epoch 55/100\n",
            "203/219 [==========================>...] - ETA: 0s - loss: 1.1030 - accuracy: 0.6301\n",
            "Epoch 55: val_loss improved from 0.91849 to 0.91291, saving model to saved_models/audio_classification.hdf5\n",
            "219/219 [==============================] - 1s 4ms/step - loss: 1.1033 - accuracy: 0.6315 - val_loss: 0.9129 - val_accuracy: 0.7138\n",
            "Epoch 56/100\n",
            "219/219 [==============================] - ETA: 0s - loss: 1.0984 - accuracy: 0.6312\n",
            "Epoch 56: val_loss did not improve from 0.91291\n",
            "219/219 [==============================] - 1s 3ms/step - loss: 1.0984 - accuracy: 0.6312 - val_loss: 0.9210 - val_accuracy: 0.7201\n",
            "Epoch 57/100\n",
            "208/219 [===========================>..] - ETA: 0s - loss: 1.0934 - accuracy: 0.6300\n",
            "Epoch 57: val_loss did not improve from 0.91291\n",
            "219/219 [==============================] - 1s 4ms/step - loss: 1.0977 - accuracy: 0.6286 - val_loss: 0.9362 - val_accuracy: 0.7172\n",
            "Epoch 58/100\n",
            "213/219 [============================>.] - ETA: 0s - loss: 1.0905 - accuracy: 0.6342\n",
            "Epoch 58: val_loss did not improve from 0.91291\n",
            "219/219 [==============================] - 1s 4ms/step - loss: 1.0898 - accuracy: 0.6351 - val_loss: 0.9223 - val_accuracy: 0.7241\n",
            "Epoch 59/100\n",
            "214/219 [============================>.] - ETA: 0s - loss: 1.0664 - accuracy: 0.6446\n",
            "Epoch 59: val_loss improved from 0.91291 to 0.89027, saving model to saved_models/audio_classification.hdf5\n",
            "219/219 [==============================] - 1s 4ms/step - loss: 1.0683 - accuracy: 0.6442 - val_loss: 0.8903 - val_accuracy: 0.7287\n",
            "Epoch 60/100\n",
            "215/219 [============================>.] - ETA: 0s - loss: 1.0787 - accuracy: 0.6417\n",
            "Epoch 60: val_loss did not improve from 0.89027\n",
            "219/219 [==============================] - 1s 4ms/step - loss: 1.0780 - accuracy: 0.6427 - val_loss: 0.9053 - val_accuracy: 0.7155\n",
            "Epoch 61/100\n",
            "208/219 [===========================>..] - ETA: 0s - loss: 1.0837 - accuracy: 0.6465\n",
            "Epoch 61: val_loss did not improve from 0.89027\n",
            "219/219 [==============================] - 1s 4ms/step - loss: 1.0791 - accuracy: 0.6474 - val_loss: 0.9468 - val_accuracy: 0.7138\n",
            "Epoch 62/100\n",
            "216/219 [============================>.] - ETA: 0s - loss: 1.0880 - accuracy: 0.6354\n",
            "Epoch 62: val_loss did not improve from 0.89027\n",
            "219/219 [==============================] - 1s 4ms/step - loss: 1.0902 - accuracy: 0.6355 - val_loss: 0.9022 - val_accuracy: 0.7224\n",
            "Epoch 63/100\n",
            "217/219 [============================>.] - ETA: 0s - loss: 1.0532 - accuracy: 0.6547\n",
            "Epoch 63: val_loss improved from 0.89027 to 0.87913, saving model to saved_models/audio_classification.hdf5\n",
            "219/219 [==============================] - 1s 4ms/step - loss: 1.0530 - accuracy: 0.6544 - val_loss: 0.8791 - val_accuracy: 0.7321\n",
            "Epoch 64/100\n",
            "213/219 [============================>.] - ETA: 0s - loss: 1.0712 - accuracy: 0.6389\n",
            "Epoch 64: val_loss did not improve from 0.87913\n",
            "219/219 [==============================] - 1s 4ms/step - loss: 1.0702 - accuracy: 0.6394 - val_loss: 0.8946 - val_accuracy: 0.7241\n",
            "Epoch 65/100\n",
            "215/219 [============================>.] - ETA: 0s - loss: 1.0525 - accuracy: 0.6469\n",
            "Epoch 65: val_loss improved from 0.87913 to 0.87484, saving model to saved_models/audio_classification.hdf5\n",
            "219/219 [==============================] - 1s 4ms/step - loss: 1.0545 - accuracy: 0.6468 - val_loss: 0.8748 - val_accuracy: 0.7287\n",
            "Epoch 66/100\n",
            "208/219 [===========================>..] - ETA: 0s - loss: 1.0538 - accuracy: 0.6519\n",
            "Epoch 66: val_loss did not improve from 0.87484\n",
            "219/219 [==============================] - 1s 3ms/step - loss: 1.0548 - accuracy: 0.6505 - val_loss: 0.8827 - val_accuracy: 0.7310\n",
            "Epoch 67/100\n",
            "211/219 [===========================>..] - ETA: 0s - loss: 1.0474 - accuracy: 0.6543\n",
            "Epoch 67: val_loss improved from 0.87484 to 0.86152, saving model to saved_models/audio_classification.hdf5\n",
            "219/219 [==============================] - 1s 4ms/step - loss: 1.0452 - accuracy: 0.6554 - val_loss: 0.8615 - val_accuracy: 0.7481\n",
            "Epoch 68/100\n",
            "210/219 [===========================>..] - ETA: 0s - loss: 1.0445 - accuracy: 0.6582\n",
            "Epoch 68: val_loss did not improve from 0.86152\n",
            "219/219 [==============================] - 1s 4ms/step - loss: 1.0479 - accuracy: 0.6561 - val_loss: 0.8777 - val_accuracy: 0.7390\n",
            "Epoch 69/100\n",
            "219/219 [==============================] - ETA: 0s - loss: 1.0373 - accuracy: 0.6515\n",
            "Epoch 69: val_loss did not improve from 0.86152\n",
            "219/219 [==============================] - 1s 4ms/step - loss: 1.0373 - accuracy: 0.6515 - val_loss: 0.8869 - val_accuracy: 0.7201\n",
            "Epoch 70/100\n",
            "212/219 [============================>.] - ETA: 0s - loss: 1.0512 - accuracy: 0.6486\n",
            "Epoch 70: val_loss improved from 0.86152 to 0.85984, saving model to saved_models/audio_classification.hdf5\n",
            "219/219 [==============================] - 1s 4ms/step - loss: 1.0475 - accuracy: 0.6501 - val_loss: 0.8598 - val_accuracy: 0.7355\n",
            "Epoch 71/100\n",
            "204/219 [==========================>...] - ETA: 0s - loss: 1.0361 - accuracy: 0.6589\n",
            "Epoch 71: val_loss improved from 0.85984 to 0.85734, saving model to saved_models/audio_classification.hdf5\n",
            "219/219 [==============================] - 1s 4ms/step - loss: 1.0349 - accuracy: 0.6591 - val_loss: 0.8573 - val_accuracy: 0.7298\n",
            "Epoch 72/100\n",
            "219/219 [==============================] - ETA: 0s - loss: 1.0409 - accuracy: 0.6553\n",
            "Epoch 72: val_loss did not improve from 0.85734\n",
            "219/219 [==============================] - 1s 3ms/step - loss: 1.0409 - accuracy: 0.6553 - val_loss: 0.8620 - val_accuracy: 0.7327\n",
            "Epoch 73/100\n",
            "210/219 [===========================>..] - ETA: 0s - loss: 1.0255 - accuracy: 0.6585\n",
            "Epoch 73: val_loss improved from 0.85734 to 0.85157, saving model to saved_models/audio_classification.hdf5\n",
            "219/219 [==============================] - 1s 4ms/step - loss: 1.0217 - accuracy: 0.6580 - val_loss: 0.8516 - val_accuracy: 0.7424\n",
            "Epoch 74/100\n",
            "205/219 [===========================>..] - ETA: 0s - loss: 1.0290 - accuracy: 0.6620\n",
            "Epoch 74: val_loss did not improve from 0.85157\n",
            "219/219 [==============================] - 1s 4ms/step - loss: 1.0342 - accuracy: 0.6603 - val_loss: 0.8558 - val_accuracy: 0.7407\n",
            "Epoch 75/100\n",
            "215/219 [============================>.] - ETA: 0s - loss: 1.0320 - accuracy: 0.6551\n",
            "Epoch 75: val_loss improved from 0.85157 to 0.84221, saving model to saved_models/audio_classification.hdf5\n",
            "219/219 [==============================] - 1s 4ms/step - loss: 1.0288 - accuracy: 0.6555 - val_loss: 0.8422 - val_accuracy: 0.7441\n",
            "Epoch 76/100\n",
            "218/219 [============================>.] - ETA: 0s - loss: 1.0259 - accuracy: 0.6611\n",
            "Epoch 76: val_loss did not improve from 0.84221\n",
            "219/219 [==============================] - 1s 4ms/step - loss: 1.0259 - accuracy: 0.6613 - val_loss: 0.8502 - val_accuracy: 0.7310\n",
            "Epoch 77/100\n",
            "208/219 [===========================>..] - ETA: 0s - loss: 1.0239 - accuracy: 0.6623\n",
            "Epoch 77: val_loss did not improve from 0.84221\n",
            "219/219 [==============================] - 1s 4ms/step - loss: 1.0261 - accuracy: 0.6627 - val_loss: 0.8434 - val_accuracy: 0.7418\n",
            "Epoch 78/100\n",
            "209/219 [===========================>..] - ETA: 0s - loss: 1.0101 - accuracy: 0.6705\n",
            "Epoch 78: val_loss did not improve from 0.84221\n",
            "219/219 [==============================] - 1s 4ms/step - loss: 1.0140 - accuracy: 0.6702 - val_loss: 0.8635 - val_accuracy: 0.7333\n",
            "Epoch 79/100\n",
            "218/219 [============================>.] - ETA: 0s - loss: 1.0295 - accuracy: 0.6664\n",
            "Epoch 79: val_loss did not improve from 0.84221\n",
            "219/219 [==============================] - 1s 4ms/step - loss: 1.0302 - accuracy: 0.6661 - val_loss: 0.8716 - val_accuracy: 0.7550\n",
            "Epoch 80/100\n",
            "217/219 [============================>.] - ETA: 0s - loss: 1.0024 - accuracy: 0.6676\n",
            "Epoch 80: val_loss improved from 0.84221 to 0.82578, saving model to saved_models/audio_classification.hdf5\n",
            "219/219 [==============================] - 1s 4ms/step - loss: 1.0009 - accuracy: 0.6683 - val_loss: 0.8258 - val_accuracy: 0.7602\n",
            "Epoch 81/100\n",
            "209/219 [===========================>..] - ETA: 0s - loss: 1.0129 - accuracy: 0.6672\n",
            "Epoch 81: val_loss did not improve from 0.82578\n",
            "219/219 [==============================] - 1s 4ms/step - loss: 1.0169 - accuracy: 0.6680 - val_loss: 0.8449 - val_accuracy: 0.7401\n",
            "Epoch 82/100\n",
            "207/219 [===========================>..] - ETA: 0s - loss: 1.0034 - accuracy: 0.6686\n",
            "Epoch 82: val_loss did not improve from 0.82578\n",
            "219/219 [==============================] - 1s 3ms/step - loss: 0.9967 - accuracy: 0.6702 - val_loss: 0.8299 - val_accuracy: 0.7464\n",
            "Epoch 83/100\n",
            "219/219 [==============================] - ETA: 0s - loss: 1.0218 - accuracy: 0.6640\n",
            "Epoch 83: val_loss did not improve from 0.82578\n",
            "219/219 [==============================] - 1s 5ms/step - loss: 1.0218 - accuracy: 0.6640 - val_loss: 0.8276 - val_accuracy: 0.7544\n",
            "Epoch 84/100\n",
            "218/219 [============================>.] - ETA: 0s - loss: 1.0028 - accuracy: 0.6649\n",
            "Epoch 84: val_loss improved from 0.82578 to 0.80289, saving model to saved_models/audio_classification.hdf5\n",
            "219/219 [==============================] - 2s 7ms/step - loss: 1.0028 - accuracy: 0.6649 - val_loss: 0.8029 - val_accuracy: 0.7567\n",
            "Epoch 85/100\n",
            "216/219 [============================>.] - ETA: 0s - loss: 0.9787 - accuracy: 0.6758\n",
            "Epoch 85: val_loss did not improve from 0.80289\n",
            "219/219 [==============================] - 1s 5ms/step - loss: 0.9777 - accuracy: 0.6764 - val_loss: 0.8420 - val_accuracy: 0.7584\n",
            "Epoch 86/100\n",
            "204/219 [==========================>...] - ETA: 0s - loss: 0.9739 - accuracy: 0.6791\n",
            "Epoch 86: val_loss improved from 0.80289 to 0.78817, saving model to saved_models/audio_classification.hdf5\n",
            "219/219 [==============================] - 1s 4ms/step - loss: 0.9758 - accuracy: 0.6793 - val_loss: 0.7882 - val_accuracy: 0.7670\n",
            "Epoch 87/100\n",
            "202/219 [==========================>...] - ETA: 0s - loss: 1.0009 - accuracy: 0.6671\n",
            "Epoch 87: val_loss did not improve from 0.78817\n",
            "219/219 [==============================] - 1s 3ms/step - loss: 0.9974 - accuracy: 0.6684 - val_loss: 0.8266 - val_accuracy: 0.7516\n",
            "Epoch 88/100\n",
            "204/219 [==========================>...] - ETA: 0s - loss: 1.0054 - accuracy: 0.6745\n",
            "Epoch 88: val_loss did not improve from 0.78817\n",
            "219/219 [==============================] - 1s 4ms/step - loss: 1.0052 - accuracy: 0.6726 - val_loss: 0.8264 - val_accuracy: 0.7533\n",
            "Epoch 89/100\n",
            "214/219 [============================>.] - ETA: 0s - loss: 0.9840 - accuracy: 0.6767\n",
            "Epoch 89: val_loss did not improve from 0.78817\n",
            "219/219 [==============================] - 1s 4ms/step - loss: 0.9836 - accuracy: 0.6766 - val_loss: 0.8048 - val_accuracy: 0.7647\n",
            "Epoch 90/100\n",
            "205/219 [===========================>..] - ETA: 0s - loss: 0.9959 - accuracy: 0.6735\n",
            "Epoch 90: val_loss did not improve from 0.78817\n",
            "219/219 [==============================] - 1s 4ms/step - loss: 0.9947 - accuracy: 0.6752 - val_loss: 0.7944 - val_accuracy: 0.7613\n",
            "Epoch 91/100\n",
            "217/219 [============================>.] - ETA: 0s - loss: 0.9598 - accuracy: 0.6820\n",
            "Epoch 91: val_loss did not improve from 0.78817\n",
            "219/219 [==============================] - 1s 4ms/step - loss: 0.9609 - accuracy: 0.6817 - val_loss: 0.7976 - val_accuracy: 0.7590\n",
            "Epoch 92/100\n",
            "215/219 [============================>.] - ETA: 0s - loss: 0.9762 - accuracy: 0.6773\n",
            "Epoch 92: val_loss did not improve from 0.78817\n",
            "219/219 [==============================] - 1s 4ms/step - loss: 0.9744 - accuracy: 0.6775 - val_loss: 0.8179 - val_accuracy: 0.7590\n",
            "Epoch 93/100\n",
            "203/219 [==========================>...] - ETA: 0s - loss: 0.9854 - accuracy: 0.6736\n",
            "Epoch 93: val_loss did not improve from 0.78817\n",
            "219/219 [==============================] - 1s 4ms/step - loss: 0.9879 - accuracy: 0.6726 - val_loss: 0.7948 - val_accuracy: 0.7642\n",
            "Epoch 94/100\n",
            "219/219 [==============================] - ETA: 0s - loss: 0.9809 - accuracy: 0.6800\n",
            "Epoch 94: val_loss did not improve from 0.78817\n",
            "219/219 [==============================] - 1s 4ms/step - loss: 0.9809 - accuracy: 0.6800 - val_loss: 0.8273 - val_accuracy: 0.7619\n",
            "Epoch 95/100\n",
            "205/219 [===========================>..] - ETA: 0s - loss: 0.9647 - accuracy: 0.6796\n",
            "Epoch 95: val_loss improved from 0.78817 to 0.78810, saving model to saved_models/audio_classification.hdf5\n",
            "219/219 [==============================] - 1s 4ms/step - loss: 0.9644 - accuracy: 0.6800 - val_loss: 0.7881 - val_accuracy: 0.7670\n",
            "Epoch 96/100\n",
            "212/219 [============================>.] - ETA: 0s - loss: 0.9820 - accuracy: 0.6692\n",
            "Epoch 96: val_loss did not improve from 0.78810\n",
            "219/219 [==============================] - 1s 4ms/step - loss: 0.9816 - accuracy: 0.6693 - val_loss: 0.8048 - val_accuracy: 0.7510\n",
            "Epoch 97/100\n",
            "213/219 [============================>.] - ETA: 0s - loss: 0.9900 - accuracy: 0.6687\n",
            "Epoch 97: val_loss did not improve from 0.78810\n",
            "219/219 [==============================] - 1s 4ms/step - loss: 0.9924 - accuracy: 0.6684 - val_loss: 0.7925 - val_accuracy: 0.7567\n",
            "Epoch 98/100\n",
            "211/219 [===========================>..] - ETA: 0s - loss: 1.0055 - accuracy: 0.6697\n",
            "Epoch 98: val_loss did not improve from 0.78810\n",
            "219/219 [==============================] - 1s 4ms/step - loss: 0.9989 - accuracy: 0.6716 - val_loss: 0.8145 - val_accuracy: 0.7550\n",
            "Epoch 99/100\n",
            "218/219 [============================>.] - ETA: 0s - loss: 0.9618 - accuracy: 0.6806\n",
            "Epoch 99: val_loss did not improve from 0.78810\n",
            "219/219 [==============================] - 1s 4ms/step - loss: 0.9616 - accuracy: 0.6806 - val_loss: 0.8241 - val_accuracy: 0.7556\n",
            "Epoch 100/100\n",
            "216/219 [============================>.] - ETA: 0s - loss: 0.9586 - accuracy: 0.6837\n",
            "Epoch 100: val_loss did not improve from 0.78810\n",
            "219/219 [==============================] - 1s 4ms/step - loss: 0.9589 - accuracy: 0.6840 - val_loss: 0.7935 - val_accuracy: 0.7607\n",
            "Training completed in time:  0:01:25.757377\n"
          ]
        }
      ],
      "source": [
        "from tensorflow.keras.callbacks import ModelCheckpoint\n",
        "from datetime import datetime \n",
        "\n",
        "num_epochs = 100\n",
        "num_batch_size = 32\n",
        "\n",
        "checkpointer = ModelCheckpoint(filepath='saved_models/audio_classification.hdf5', \n",
        "                               verbose=1, save_best_only=True)\n",
        "start = datetime.now()\n",
        "\n",
        "model.fit(X_train, y_train, batch_size=num_batch_size, epochs=num_epochs, validation_data=(X_test, y_test), callbacks=[checkpointer], verbose=1)\n",
        "\n",
        "\n",
        "duration = datetime.now() - start\n",
        "print(\"Training completed in time: \", duration)"
      ]
    },
    {
      "cell_type": "code",
      "execution_count": null,
      "metadata": {
        "colab": {
          "background_save": true
        },
        "id": "ufw0AQthnVCs",
        "outputId": "34260c9c-57d2-473a-95e3-219545bc34cf"
      },
      "outputs": [
        {
          "name": "stdout",
          "output_type": "stream",
          "text": [
            "0.7607327103614807\n"
          ]
        }
      ],
      "source": [
        "test_accuracy=model.evaluate(X_test,y_test,verbose=0)\n",
        "print(test_accuracy[1])"
      ]
    },
    {
      "cell_type": "markdown",
      "metadata": {
        "id": "jCJ_0cr1nc26"
      },
      "source": [
        "Testing Some Test Audio **Data**\n",
        "\n"
      ]
    },
    {
      "cell_type": "code",
      "execution_count": null,
      "metadata": {
        "colab": {
          "background_save": true
        },
        "id": "Juox1RwEpXDw",
        "outputId": "0aac53e2-1309-4c07-fc16-af48f6441755"
      },
      "outputs": [
        {
          "name": "stdout",
          "output_type": "stream",
          "text": [
            "[-136.29364     152.65561     -62.20506      70.2245      -16.890215\n",
            "   15.495337     25.815641     -7.3658853    31.459112    -11.078077\n",
            "    6.693735      8.438194     -9.756095     10.744754    -12.312787\n",
            "    2.1573284    -0.59030354   -8.950372      7.1393185    -7.0702076\n",
            "    3.3401825    -1.303158     -5.3245173     3.409095     -7.4750667\n",
            "    2.2311       -3.190249     -5.3471713     1.7474864    -5.0974936\n",
            "    1.7773226    -2.8066642    -3.0516493    -0.87348133   -5.841939\n",
            "    0.9086297    -3.29701      -2.7749302    -1.6764535    -4.4903727 ]\n",
            "[[-136.29364     152.65561     -62.20506      70.2245      -16.890215\n",
            "    15.495337     25.815641     -7.3658853    31.459112    -11.078077\n",
            "     6.693735      8.438194     -9.756095     10.744754    -12.312787\n",
            "     2.1573284    -0.59030354   -8.950372      7.1393185    -7.0702076\n",
            "     3.3401825    -1.303158     -5.3245173     3.409095     -7.4750667\n",
            "     2.2311       -3.190249     -5.3471713     1.7474864    -5.0974936\n",
            "     1.7773226    -2.8066642    -3.0516493    -0.87348133   -5.841939\n",
            "     0.9086297    -3.29701      -2.7749302    -1.6764535    -4.4903727 ]]\n",
            "(1, 40)\n",
            "[4]\n"
          ]
        },
        {
          "data": {
            "text/plain": [
              "array(['drilling'], dtype='<U16')"
            ]
          },
          "execution_count": 36,
          "metadata": {},
          "output_type": "execute_result"
        }
      ],
      "source": [
        "import librosa \n",
        "filename='/content/drive/MyDrive/cleaned_data/eval_balanced/Emergency/105.wav'\n",
        "audio, sample_rate = librosa.load(filename, res_type='kaiser_fast') \n",
        "mfccs_features = librosa.feature.mfcc(y=audio, sr=sample_rate, n_mfcc=40)\n",
        "mfccs_scaled_features = np.mean(mfccs_features.T,axis=0)\n",
        "\n",
        "print(mfccs_scaled_features)\n",
        "mfccs_scaled_features=mfccs_scaled_features.reshape(1,-1)\n",
        "print(mfccs_scaled_features)\n",
        "print(mfccs_scaled_features.shape)\n",
        "\n",
        "predict_label=model.predict(mfccs_scaled_features) \n",
        "classes_label=np.argmax(predict_label,axis=1)\n",
        "\n",
        "print(classes_label)\n",
        "\n",
        "prediction_class = labelencoder.inverse_transform(classes_label) \n",
        "prediction_class\n"
      ]
    },
    {
      "cell_type": "code",
      "execution_count": null,
      "metadata": {
        "colab": {
          "background_save": true
        },
        "id": "N6gKgAi3LVrF",
        "outputId": "59da0c3c-3426-4b03-864c-3bb0e4017563"
      },
      "outputs": [
        {
          "name": "stdout",
          "output_type": "stream",
          "text": [
            "Epoch 1/100\n"
          ]
        },
        {
          "name": "stderr",
          "output_type": "stream",
          "text": [
            "/usr/local/lib/python3.7/dist-packages/keras/optimizer_v2/adam.py:105: UserWarning: The `lr` argument is deprecated, use `learning_rate` instead.\n",
            "  super(Adam, self).__init__(name, **kwargs)\n"
          ]
        },
        {
          "name": "stdout",
          "output_type": "stream",
          "text": [
            "207/219 [===========================>..] - ETA: 0s - loss: 0.9600 - accuracy: 0.6869\n",
            "Epoch 1: val_loss improved from 0.78810 to 0.78413, saving model to saved_models/audio_classification.hdf5\n",
            "219/219 [==============================] - 2s 5ms/step - loss: 0.9596 - accuracy: 0.6865 - val_loss: 0.7841 - val_accuracy: 0.7670\n",
            "Epoch 2/100\n",
            "202/219 [==========================>...] - ETA: 0s - loss: 0.9617 - accuracy: 0.6895\n",
            "Epoch 2: val_loss did not improve from 0.78413\n",
            "219/219 [==============================] - 1s 4ms/step - loss: 0.9657 - accuracy: 0.6873 - val_loss: 0.8032 - val_accuracy: 0.7493\n",
            "Epoch 3/100\n",
            "213/219 [============================>.] - ETA: 0s - loss: 0.9762 - accuracy: 0.6831\n",
            "Epoch 3: val_loss did not improve from 0.78413\n",
            "219/219 [==============================] - 1s 3ms/step - loss: 0.9758 - accuracy: 0.6827 - val_loss: 0.8050 - val_accuracy: 0.7602\n",
            "Epoch 4/100\n",
            "204/219 [==========================>...] - ETA: 0s - loss: 0.9506 - accuracy: 0.6828\n",
            "Epoch 4: val_loss did not improve from 0.78413\n",
            "219/219 [==============================] - 1s 4ms/step - loss: 0.9516 - accuracy: 0.6825 - val_loss: 0.8041 - val_accuracy: 0.7499\n",
            "Epoch 5/100\n",
            "205/219 [===========================>..] - ETA: 0s - loss: 0.9433 - accuracy: 0.6899\n",
            "Epoch 5: val_loss did not improve from 0.78413\n",
            "219/219 [==============================] - 1s 4ms/step - loss: 0.9505 - accuracy: 0.6883 - val_loss: 0.8114 - val_accuracy: 0.7556\n",
            "Epoch 6/100\n",
            "208/219 [===========================>..] - ETA: 0s - loss: 0.9479 - accuracy: 0.6902\n",
            "Epoch 6: val_loss improved from 0.78413 to 0.76290, saving model to saved_models/audio_classification.hdf5\n",
            "219/219 [==============================] - 1s 4ms/step - loss: 0.9462 - accuracy: 0.6913 - val_loss: 0.7629 - val_accuracy: 0.7653\n",
            "Epoch 7/100\n",
            "216/219 [============================>.] - ETA: 0s - loss: 0.9637 - accuracy: 0.6862\n",
            "Epoch 7: val_loss did not improve from 0.76290\n",
            "219/219 [==============================] - 1s 4ms/step - loss: 0.9638 - accuracy: 0.6858 - val_loss: 0.7715 - val_accuracy: 0.7665\n",
            "Epoch 8/100\n",
            "211/219 [===========================>..] - ETA: 0s - loss: 0.9382 - accuracy: 0.6906\n",
            "Epoch 8: val_loss did not improve from 0.76290\n",
            "219/219 [==============================] - 1s 3ms/step - loss: 0.9410 - accuracy: 0.6912 - val_loss: 0.7786 - val_accuracy: 0.7596\n",
            "Epoch 9/100\n",
            "201/219 [==========================>...] - ETA: 0s - loss: 0.9389 - accuracy: 0.6869\n",
            "Epoch 9: val_loss did not improve from 0.76290\n",
            "219/219 [==============================] - 1s 4ms/step - loss: 0.9425 - accuracy: 0.6860 - val_loss: 0.7841 - val_accuracy: 0.7687\n",
            "Epoch 10/100\n",
            "218/219 [============================>.] - ETA: 0s - loss: 0.9325 - accuracy: 0.6861\n",
            "Epoch 10: val_loss improved from 0.76290 to 0.76277, saving model to saved_models/audio_classification.hdf5\n",
            "219/219 [==============================] - 1s 3ms/step - loss: 0.9315 - accuracy: 0.6865 - val_loss: 0.7628 - val_accuracy: 0.7653\n",
            "Epoch 11/100\n",
            "214/219 [============================>.] - ETA: 0s - loss: 0.9537 - accuracy: 0.6869\n",
            "Epoch 11: val_loss did not improve from 0.76277\n",
            "219/219 [==============================] - 1s 4ms/step - loss: 0.9548 - accuracy: 0.6855 - val_loss: 0.7889 - val_accuracy: 0.7630\n",
            "Epoch 12/100\n",
            "212/219 [============================>.] - ETA: 0s - loss: 0.9341 - accuracy: 0.6906\n",
            "Epoch 12: val_loss did not improve from 0.76277\n",
            "219/219 [==============================] - 1s 4ms/step - loss: 0.9351 - accuracy: 0.6893 - val_loss: 0.7871 - val_accuracy: 0.7619\n",
            "Epoch 13/100\n",
            "217/219 [============================>.] - ETA: 0s - loss: 0.9635 - accuracy: 0.6820\n",
            "Epoch 13: val_loss did not improve from 0.76277\n",
            "219/219 [==============================] - 1s 4ms/step - loss: 0.9626 - accuracy: 0.6825 - val_loss: 0.7918 - val_accuracy: 0.7544\n",
            "Epoch 14/100\n",
            "202/219 [==========================>...] - ETA: 0s - loss: 0.9441 - accuracy: 0.6966\n",
            "Epoch 14: val_loss did not improve from 0.76277\n",
            "219/219 [==============================] - 1s 4ms/step - loss: 0.9452 - accuracy: 0.6938 - val_loss: 0.7956 - val_accuracy: 0.7544\n",
            "Epoch 15/100\n",
            "212/219 [============================>.] - ETA: 0s - loss: 0.9438 - accuracy: 0.6838\n",
            "Epoch 15: val_loss improved from 0.76277 to 0.75627, saving model to saved_models/audio_classification.hdf5\n",
            "219/219 [==============================] - 1s 4ms/step - loss: 0.9440 - accuracy: 0.6836 - val_loss: 0.7563 - val_accuracy: 0.7768\n",
            "Epoch 16/100\n",
            "209/219 [===========================>..] - ETA: 0s - loss: 0.9463 - accuracy: 0.6917\n",
            "Epoch 16: val_loss did not improve from 0.75627\n",
            "219/219 [==============================] - 1s 3ms/step - loss: 0.9451 - accuracy: 0.6923 - val_loss: 0.7901 - val_accuracy: 0.7579\n",
            "Epoch 17/100\n",
            "219/219 [==============================] - ETA: 0s - loss: 0.9434 - accuracy: 0.6974\n",
            "Epoch 17: val_loss did not improve from 0.75627\n",
            "219/219 [==============================] - 1s 4ms/step - loss: 0.9434 - accuracy: 0.6974 - val_loss: 0.7713 - val_accuracy: 0.7659\n",
            "Epoch 18/100\n",
            "210/219 [===========================>..] - ETA: 0s - loss: 0.9391 - accuracy: 0.6921\n",
            "Epoch 18: val_loss did not improve from 0.75627\n",
            "219/219 [==============================] - 1s 3ms/step - loss: 0.9433 - accuracy: 0.6913 - val_loss: 0.7626 - val_accuracy: 0.7556\n",
            "Epoch 19/100\n",
            "216/219 [============================>.] - ETA: 0s - loss: 0.9337 - accuracy: 0.6952\n",
            "Epoch 19: val_loss did not improve from 0.75627\n",
            "219/219 [==============================] - 1s 4ms/step - loss: 0.9330 - accuracy: 0.6955 - val_loss: 0.7918 - val_accuracy: 0.7579\n",
            "Epoch 20/100\n",
            "203/219 [==========================>...] - ETA: 0s - loss: 0.9354 - accuracy: 0.6960\n",
            "Epoch 20: val_loss did not improve from 0.75627\n",
            "219/219 [==============================] - 1s 3ms/step - loss: 0.9419 - accuracy: 0.6966 - val_loss: 0.7843 - val_accuracy: 0.7567\n",
            "Epoch 21/100\n",
            "213/219 [============================>.] - ETA: 0s - loss: 0.9545 - accuracy: 0.6866\n",
            "Epoch 21: val_loss did not improve from 0.75627\n",
            "219/219 [==============================] - 1s 3ms/step - loss: 0.9543 - accuracy: 0.6875 - val_loss: 0.7885 - val_accuracy: 0.7665\n",
            "Epoch 22/100\n",
            "210/219 [===========================>..] - ETA: 0s - loss: 0.9331 - accuracy: 0.6908\n",
            "Epoch 22: val_loss did not improve from 0.75627\n",
            "219/219 [==============================] - 1s 3ms/step - loss: 0.9344 - accuracy: 0.6901 - val_loss: 0.7611 - val_accuracy: 0.7710\n",
            "Epoch 23/100\n",
            "206/219 [===========================>..] - ETA: 0s - loss: 0.9560 - accuracy: 0.6820\n",
            "Epoch 23: val_loss did not improve from 0.75627\n",
            "219/219 [==============================] - 1s 3ms/step - loss: 0.9558 - accuracy: 0.6816 - val_loss: 0.7763 - val_accuracy: 0.7676\n",
            "Epoch 24/100\n",
            "216/219 [============================>.] - ETA: 0s - loss: 0.9251 - accuracy: 0.6894\n",
            "Epoch 24: val_loss improved from 0.75627 to 0.74641, saving model to saved_models/audio_classification.hdf5\n",
            "219/219 [==============================] - 1s 4ms/step - loss: 0.9251 - accuracy: 0.6889 - val_loss: 0.7464 - val_accuracy: 0.7762\n",
            "Epoch 25/100\n",
            "205/219 [===========================>..] - ETA: 0s - loss: 0.9371 - accuracy: 0.6899\n",
            "Epoch 25: val_loss did not improve from 0.74641\n",
            "219/219 [==============================] - 1s 3ms/step - loss: 0.9349 - accuracy: 0.6912 - val_loss: 0.8042 - val_accuracy: 0.7562\n",
            "Epoch 26/100\n",
            "209/219 [===========================>..] - ETA: 0s - loss: 0.9402 - accuracy: 0.6896\n",
            "Epoch 26: val_loss did not improve from 0.74641\n",
            "219/219 [==============================] - 1s 3ms/step - loss: 0.9398 - accuracy: 0.6889 - val_loss: 0.7544 - val_accuracy: 0.7716\n",
            "Epoch 27/100\n",
            "211/219 [===========================>..] - ETA: 0s - loss: 0.9293 - accuracy: 0.6933\n",
            "Epoch 27: val_loss improved from 0.74641 to 0.74031, saving model to saved_models/audio_classification.hdf5\n",
            "219/219 [==============================] - 1s 3ms/step - loss: 0.9319 - accuracy: 0.6933 - val_loss: 0.7403 - val_accuracy: 0.7693\n",
            "Epoch 28/100\n",
            "207/219 [===========================>..] - ETA: 0s - loss: 0.9318 - accuracy: 0.6981\n",
            "Epoch 28: val_loss did not improve from 0.74031\n",
            "219/219 [==============================] - 1s 3ms/step - loss: 0.9331 - accuracy: 0.6961 - val_loss: 0.7587 - val_accuracy: 0.7653\n",
            "Epoch 29/100\n",
            "203/219 [==========================>...] - ETA: 0s - loss: 0.9108 - accuracy: 0.7060\n",
            "Epoch 29: val_loss did not improve from 0.74031\n",
            "219/219 [==============================] - 1s 3ms/step - loss: 0.9075 - accuracy: 0.7057 - val_loss: 0.7549 - val_accuracy: 0.7722\n",
            "Epoch 30/100\n",
            "211/219 [===========================>..] - ETA: 0s - loss: 0.9392 - accuracy: 0.6952\n",
            "Epoch 30: val_loss improved from 0.74031 to 0.73503, saving model to saved_models/audio_classification.hdf5\n",
            "219/219 [==============================] - 1s 4ms/step - loss: 0.9393 - accuracy: 0.6948 - val_loss: 0.7350 - val_accuracy: 0.7739\n",
            "Epoch 31/100\n",
            "212/219 [============================>.] - ETA: 0s - loss: 0.9147 - accuracy: 0.6966\n",
            "Epoch 31: val_loss did not improve from 0.73503\n",
            "219/219 [==============================] - 1s 3ms/step - loss: 0.9165 - accuracy: 0.6965 - val_loss: 0.7430 - val_accuracy: 0.7785\n",
            "Epoch 32/100\n",
            "217/219 [============================>.] - ETA: 0s - loss: 0.9228 - accuracy: 0.6852\n",
            "Epoch 32: val_loss did not improve from 0.73503\n",
            "219/219 [==============================] - 1s 4ms/step - loss: 0.9214 - accuracy: 0.6858 - val_loss: 0.7503 - val_accuracy: 0.7699\n",
            "Epoch 33/100\n",
            "201/219 [==========================>...] - ETA: 0s - loss: 0.9355 - accuracy: 0.6891\n",
            "Epoch 33: val_loss did not improve from 0.73503\n",
            "219/219 [==============================] - 1s 3ms/step - loss: 0.9403 - accuracy: 0.6872 - val_loss: 0.7788 - val_accuracy: 0.7579\n",
            "Epoch 34/100\n",
            "214/219 [============================>.] - ETA: 0s - loss: 0.9000 - accuracy: 0.7034\n",
            "Epoch 34: val_loss did not improve from 0.73503\n",
            "219/219 [==============================] - 1s 3ms/step - loss: 0.9020 - accuracy: 0.7028 - val_loss: 0.7417 - val_accuracy: 0.7796\n",
            "Epoch 35/100\n",
            "217/219 [============================>.] - ETA: 0s - loss: 0.9129 - accuracy: 0.7019\n",
            "Epoch 35: val_loss did not improve from 0.73503\n",
            "219/219 [==============================] - 1s 4ms/step - loss: 0.9135 - accuracy: 0.7018 - val_loss: 0.7471 - val_accuracy: 0.7768\n",
            "Epoch 36/100\n",
            "215/219 [============================>.] - ETA: 0s - loss: 0.9226 - accuracy: 0.6994\n",
            "Epoch 36: val_loss did not improve from 0.73503\n",
            "219/219 [==============================] - 1s 4ms/step - loss: 0.9208 - accuracy: 0.7001 - val_loss: 0.7498 - val_accuracy: 0.7745\n",
            "Epoch 37/100\n",
            "218/219 [============================>.] - ETA: 0s - loss: 0.9010 - accuracy: 0.7023\n",
            "Epoch 37: val_loss did not improve from 0.73503\n",
            "219/219 [==============================] - 1s 3ms/step - loss: 0.9013 - accuracy: 0.7021 - val_loss: 0.7426 - val_accuracy: 0.7808\n",
            "Epoch 38/100\n",
            "208/219 [===========================>..] - ETA: 0s - loss: 0.9079 - accuracy: 0.7069\n",
            "Epoch 38: val_loss did not improve from 0.73503\n",
            "219/219 [==============================] - 1s 3ms/step - loss: 0.9091 - accuracy: 0.7064 - val_loss: 0.7516 - val_accuracy: 0.7705\n",
            "Epoch 39/100\n",
            "208/219 [===========================>..] - ETA: 0s - loss: 0.9250 - accuracy: 0.6946\n",
            "Epoch 39: val_loss did not improve from 0.73503\n",
            "219/219 [==============================] - 1s 4ms/step - loss: 0.9229 - accuracy: 0.6946 - val_loss: 0.7423 - val_accuracy: 0.7768\n",
            "Epoch 40/100\n",
            "212/219 [============================>.] - ETA: 0s - loss: 0.9194 - accuracy: 0.6974\n",
            "Epoch 40: val_loss improved from 0.73503 to 0.71223, saving model to saved_models/audio_classification.hdf5\n",
            "219/219 [==============================] - 1s 4ms/step - loss: 0.9237 - accuracy: 0.6959 - val_loss: 0.7122 - val_accuracy: 0.7882\n",
            "Epoch 41/100\n",
            "208/219 [===========================>..] - ETA: 0s - loss: 0.8967 - accuracy: 0.7060\n",
            "Epoch 41: val_loss did not improve from 0.71223\n",
            "219/219 [==============================] - 1s 4ms/step - loss: 0.8954 - accuracy: 0.7054 - val_loss: 0.7391 - val_accuracy: 0.7779\n",
            "Epoch 42/100\n",
            "210/219 [===========================>..] - ETA: 0s - loss: 0.9235 - accuracy: 0.6963\n",
            "Epoch 42: val_loss did not improve from 0.71223\n",
            "219/219 [==============================] - 1s 4ms/step - loss: 0.9214 - accuracy: 0.6961 - val_loss: 0.7493 - val_accuracy: 0.7716\n",
            "Epoch 43/100\n",
            "218/219 [============================>.] - ETA: 0s - loss: 0.9189 - accuracy: 0.6957\n",
            "Epoch 43: val_loss did not improve from 0.71223\n",
            "219/219 [==============================] - 1s 3ms/step - loss: 0.9189 - accuracy: 0.6956 - val_loss: 0.7633 - val_accuracy: 0.7762\n",
            "Epoch 44/100\n",
            "212/219 [============================>.] - ETA: 0s - loss: 0.9042 - accuracy: 0.7012\n",
            "Epoch 44: val_loss did not improve from 0.71223\n",
            "219/219 [==============================] - 1s 4ms/step - loss: 0.9063 - accuracy: 0.7005 - val_loss: 0.7497 - val_accuracy: 0.7779\n",
            "Epoch 45/100\n",
            "215/219 [============================>.] - ETA: 0s - loss: 0.9017 - accuracy: 0.7007\n",
            "Epoch 45: val_loss did not improve from 0.71223\n",
            "219/219 [==============================] - 1s 3ms/step - loss: 0.9006 - accuracy: 0.7005 - val_loss: 0.7579 - val_accuracy: 0.7790\n",
            "Epoch 46/100\n",
            "213/219 [============================>.] - ETA: 0s - loss: 0.9267 - accuracy: 0.6995\n",
            "Epoch 46: val_loss did not improve from 0.71223\n",
            "219/219 [==============================] - 1s 3ms/step - loss: 0.9307 - accuracy: 0.6981 - val_loss: 0.7464 - val_accuracy: 0.7745\n",
            "Epoch 47/100\n",
            "217/219 [============================>.] - ETA: 0s - loss: 0.8882 - accuracy: 0.7052\n",
            "Epoch 47: val_loss did not improve from 0.71223\n",
            "219/219 [==============================] - 1s 3ms/step - loss: 0.8872 - accuracy: 0.7052 - val_loss: 0.7410 - val_accuracy: 0.7773\n",
            "Epoch 48/100\n",
            "212/219 [============================>.] - ETA: 0s - loss: 0.8942 - accuracy: 0.7064\n",
            "Epoch 48: val_loss did not improve from 0.71223\n",
            "219/219 [==============================] - 1s 3ms/step - loss: 0.8976 - accuracy: 0.7062 - val_loss: 0.7275 - val_accuracy: 0.7831\n",
            "Epoch 49/100\n",
            "218/219 [============================>.] - ETA: 0s - loss: 0.9078 - accuracy: 0.7034\n",
            "Epoch 49: val_loss did not improve from 0.71223\n",
            "219/219 [==============================] - 1s 4ms/step - loss: 0.9073 - accuracy: 0.7037 - val_loss: 0.7413 - val_accuracy: 0.7756\n",
            "Epoch 50/100\n",
            "206/219 [===========================>..] - ETA: 0s - loss: 0.8872 - accuracy: 0.7052\n",
            "Epoch 50: val_loss did not improve from 0.71223\n",
            "219/219 [==============================] - 1s 4ms/step - loss: 0.8876 - accuracy: 0.7051 - val_loss: 0.7368 - val_accuracy: 0.7716\n",
            "Epoch 51/100\n",
            "212/219 [============================>.] - ETA: 0s - loss: 0.9121 - accuracy: 0.6975\n",
            "Epoch 51: val_loss did not improve from 0.71223\n",
            "219/219 [==============================] - 1s 4ms/step - loss: 0.9103 - accuracy: 0.6986 - val_loss: 0.7295 - val_accuracy: 0.7808\n",
            "Epoch 52/100\n",
            "211/219 [===========================>..] - ETA: 0s - loss: 0.8796 - accuracy: 0.7109\n",
            "Epoch 52: val_loss did not improve from 0.71223\n",
            "219/219 [==============================] - 1s 4ms/step - loss: 0.8813 - accuracy: 0.7114 - val_loss: 0.7468 - val_accuracy: 0.7796\n",
            "Epoch 53/100\n",
            "208/219 [===========================>..] - ETA: 0s - loss: 0.8871 - accuracy: 0.7064\n",
            "Epoch 53: val_loss did not improve from 0.71223\n",
            "219/219 [==============================] - 1s 4ms/step - loss: 0.8923 - accuracy: 0.7032 - val_loss: 0.7190 - val_accuracy: 0.7916\n",
            "Epoch 54/100\n",
            "203/219 [==========================>...] - ETA: 0s - loss: 0.8990 - accuracy: 0.7003\n",
            "Epoch 54: val_loss did not improve from 0.71223\n",
            "219/219 [==============================] - 1s 4ms/step - loss: 0.8983 - accuracy: 0.7006 - val_loss: 0.7512 - val_accuracy: 0.7682\n",
            "Epoch 55/100\n",
            "211/219 [===========================>..] - ETA: 0s - loss: 0.9250 - accuracy: 0.6931\n",
            "Epoch 55: val_loss did not improve from 0.71223\n",
            "219/219 [==============================] - 1s 4ms/step - loss: 0.9281 - accuracy: 0.6928 - val_loss: 0.7367 - val_accuracy: 0.7819\n",
            "Epoch 56/100\n",
            "214/219 [============================>.] - ETA: 0s - loss: 0.8898 - accuracy: 0.7066\n",
            "Epoch 56: val_loss did not improve from 0.71223\n",
            "219/219 [==============================] - 1s 4ms/step - loss: 0.8887 - accuracy: 0.7069 - val_loss: 0.7232 - val_accuracy: 0.7676\n",
            "Epoch 57/100\n",
            "214/219 [============================>.] - ETA: 0s - loss: 0.8827 - accuracy: 0.7060\n",
            "Epoch 57: val_loss improved from 0.71223 to 0.70328, saving model to saved_models/audio_classification.hdf5\n",
            "219/219 [==============================] - 1s 4ms/step - loss: 0.8869 - accuracy: 0.7042 - val_loss: 0.7033 - val_accuracy: 0.7819\n",
            "Epoch 58/100\n",
            "217/219 [============================>.] - ETA: 0s - loss: 0.9085 - accuracy: 0.7015\n",
            "Epoch 58: val_loss did not improve from 0.70328\n",
            "219/219 [==============================] - 1s 4ms/step - loss: 0.9084 - accuracy: 0.7018 - val_loss: 0.7759 - val_accuracy: 0.7579\n",
            "Epoch 59/100\n",
            "210/219 [===========================>..] - ETA: 0s - loss: 0.9129 - accuracy: 0.6975\n",
            "Epoch 59: val_loss did not improve from 0.70328\n",
            "219/219 [==============================] - 1s 3ms/step - loss: 0.9107 - accuracy: 0.6976 - val_loss: 0.7331 - val_accuracy: 0.7836\n",
            "Epoch 60/100\n",
            "205/219 [===========================>..] - ETA: 0s - loss: 0.9021 - accuracy: 0.7032\n",
            "Epoch 60: val_loss did not improve from 0.70328\n",
            "219/219 [==============================] - 1s 4ms/step - loss: 0.9044 - accuracy: 0.7029 - val_loss: 0.7330 - val_accuracy: 0.7819\n",
            "Epoch 61/100\n",
            "216/219 [============================>.] - ETA: 0s - loss: 0.8856 - accuracy: 0.7067\n",
            "Epoch 61: val_loss did not improve from 0.70328\n",
            "219/219 [==============================] - 1s 4ms/step - loss: 0.8850 - accuracy: 0.7065 - val_loss: 0.7153 - val_accuracy: 0.7785\n",
            "Epoch 62/100\n",
            "219/219 [==============================] - ETA: 0s - loss: 0.8777 - accuracy: 0.7144\n",
            "Epoch 62: val_loss did not improve from 0.70328\n",
            "219/219 [==============================] - 1s 3ms/step - loss: 0.8777 - accuracy: 0.7144 - val_loss: 0.7370 - val_accuracy: 0.7773\n",
            "Epoch 63/100\n",
            "209/219 [===========================>..] - ETA: 0s - loss: 0.8973 - accuracy: 0.7047\n",
            "Epoch 63: val_loss did not improve from 0.70328\n",
            "219/219 [==============================] - 1s 3ms/step - loss: 0.8980 - accuracy: 0.7042 - val_loss: 0.7191 - val_accuracy: 0.7768\n",
            "Epoch 64/100\n",
            "214/219 [============================>.] - ETA: 0s - loss: 0.8745 - accuracy: 0.7074\n",
            "Epoch 64: val_loss did not improve from 0.70328\n",
            "219/219 [==============================] - 1s 4ms/step - loss: 0.8723 - accuracy: 0.7082 - val_loss: 0.7618 - val_accuracy: 0.7636\n",
            "Epoch 65/100\n",
            "211/219 [===========================>..] - ETA: 0s - loss: 0.8857 - accuracy: 0.7028\n",
            "Epoch 65: val_loss did not improve from 0.70328\n",
            "219/219 [==============================] - 1s 4ms/step - loss: 0.8861 - accuracy: 0.7019 - val_loss: 0.7332 - val_accuracy: 0.7779\n",
            "Epoch 66/100\n",
            "206/219 [===========================>..] - ETA: 0s - loss: 0.8672 - accuracy: 0.7122\n",
            "Epoch 66: val_loss did not improve from 0.70328\n",
            "219/219 [==============================] - 1s 4ms/step - loss: 0.8703 - accuracy: 0.7118 - val_loss: 0.7233 - val_accuracy: 0.7790\n",
            "Epoch 67/100\n",
            "211/219 [===========================>..] - ETA: 0s - loss: 0.9029 - accuracy: 0.6971\n",
            "Epoch 67: val_loss improved from 0.70328 to 0.69692, saving model to saved_models/audio_classification.hdf5\n",
            "219/219 [==============================] - 1s 4ms/step - loss: 0.9029 - accuracy: 0.6978 - val_loss: 0.6969 - val_accuracy: 0.7859\n",
            "Epoch 68/100\n",
            "216/219 [============================>.] - ETA: 0s - loss: 0.8955 - accuracy: 0.7075\n",
            "Epoch 68: val_loss did not improve from 0.69692\n",
            "219/219 [==============================] - 1s 4ms/step - loss: 0.8940 - accuracy: 0.7079 - val_loss: 0.7255 - val_accuracy: 0.7728\n",
            "Epoch 69/100\n",
            "202/219 [==========================>...] - ETA: 0s - loss: 0.8805 - accuracy: 0.7076\n",
            "Epoch 69: val_loss did not improve from 0.69692\n",
            "219/219 [==============================] - 1s 3ms/step - loss: 0.8843 - accuracy: 0.7075 - val_loss: 0.7301 - val_accuracy: 0.7785\n",
            "Epoch 70/100\n",
            "209/219 [===========================>..] - ETA: 0s - loss: 0.8966 - accuracy: 0.7019\n",
            "Epoch 70: val_loss did not improve from 0.69692\n",
            "219/219 [==============================] - 1s 4ms/step - loss: 0.8957 - accuracy: 0.7029 - val_loss: 0.7228 - val_accuracy: 0.7825\n",
            "Epoch 71/100\n",
            "202/219 [==========================>...] - ETA: 0s - loss: 0.8910 - accuracy: 0.7087\n",
            "Epoch 71: val_loss did not improve from 0.69692\n",
            "219/219 [==============================] - 1s 3ms/step - loss: 0.8900 - accuracy: 0.7084 - val_loss: 0.7087 - val_accuracy: 0.7922\n",
            "Epoch 72/100\n",
            "207/219 [===========================>..] - ETA: 0s - loss: 0.9065 - accuracy: 0.7029\n",
            "Epoch 72: val_loss improved from 0.69692 to 0.69010, saving model to saved_models/audio_classification.hdf5\n",
            "219/219 [==============================] - 1s 3ms/step - loss: 0.9037 - accuracy: 0.7032 - val_loss: 0.6901 - val_accuracy: 0.7865\n",
            "Epoch 73/100\n",
            "205/219 [===========================>..] - ETA: 0s - loss: 0.8906 - accuracy: 0.7067\n",
            "Epoch 73: val_loss did not improve from 0.69010\n",
            "219/219 [==============================] - 1s 4ms/step - loss: 0.8950 - accuracy: 0.7051 - val_loss: 0.7149 - val_accuracy: 0.7934\n",
            "Epoch 74/100\n",
            "212/219 [============================>.] - ETA: 0s - loss: 0.8713 - accuracy: 0.7114\n",
            "Epoch 74: val_loss did not improve from 0.69010\n",
            "219/219 [==============================] - 1s 4ms/step - loss: 0.8715 - accuracy: 0.7112 - val_loss: 0.7132 - val_accuracy: 0.7934\n",
            "Epoch 75/100\n",
            "216/219 [============================>.] - ETA: 0s - loss: 0.8589 - accuracy: 0.7161\n",
            "Epoch 75: val_loss did not improve from 0.69010\n",
            "219/219 [==============================] - 1s 4ms/step - loss: 0.8591 - accuracy: 0.7161 - val_loss: 0.7168 - val_accuracy: 0.7859\n",
            "Epoch 76/100\n",
            "209/219 [===========================>..] - ETA: 0s - loss: 0.8674 - accuracy: 0.7143\n",
            "Epoch 76: val_loss did not improve from 0.69010\n",
            "219/219 [==============================] - 1s 4ms/step - loss: 0.8661 - accuracy: 0.7152 - val_loss: 0.7436 - val_accuracy: 0.7693\n",
            "Epoch 77/100\n",
            "209/219 [===========================>..] - ETA: 0s - loss: 0.8767 - accuracy: 0.7117\n",
            "Epoch 77: val_loss did not improve from 0.69010\n",
            "219/219 [==============================] - 1s 3ms/step - loss: 0.8734 - accuracy: 0.7132 - val_loss: 0.7071 - val_accuracy: 0.7859\n",
            "Epoch 78/100\n",
            "205/219 [===========================>..] - ETA: 0s - loss: 0.8789 - accuracy: 0.7113\n",
            "Epoch 78: val_loss did not improve from 0.69010\n",
            "219/219 [==============================] - 1s 4ms/step - loss: 0.8833 - accuracy: 0.7101 - val_loss: 0.7061 - val_accuracy: 0.7802\n",
            "Epoch 79/100\n",
            "216/219 [============================>.] - ETA: 0s - loss: 0.8644 - accuracy: 0.7134\n",
            "Epoch 79: val_loss did not improve from 0.69010\n",
            "219/219 [==============================] - 1s 4ms/step - loss: 0.8640 - accuracy: 0.7134 - val_loss: 0.7180 - val_accuracy: 0.7768\n",
            "Epoch 80/100\n",
            "212/219 [============================>.] - ETA: 0s - loss: 0.8794 - accuracy: 0.7067\n",
            "Epoch 80: val_loss did not improve from 0.69010\n",
            "219/219 [==============================] - 1s 4ms/step - loss: 0.8795 - accuracy: 0.7079 - val_loss: 0.7074 - val_accuracy: 0.7842\n",
            "Epoch 81/100\n",
            "216/219 [============================>.] - ETA: 0s - loss: 0.8790 - accuracy: 0.7088\n",
            "Epoch 81: val_loss improved from 0.69010 to 0.68759, saving model to saved_models/audio_classification.hdf5\n",
            "219/219 [==============================] - 1s 4ms/step - loss: 0.8805 - accuracy: 0.7081 - val_loss: 0.6876 - val_accuracy: 0.7945\n",
            "Epoch 82/100\n",
            "204/219 [==========================>...] - ETA: 0s - loss: 0.8712 - accuracy: 0.7201\n",
            "Epoch 82: val_loss did not improve from 0.68759\n",
            "219/219 [==============================] - 1s 3ms/step - loss: 0.8745 - accuracy: 0.7195 - val_loss: 0.7395 - val_accuracy: 0.7739\n",
            "Epoch 83/100\n",
            "205/219 [===========================>..] - ETA: 0s - loss: 0.8759 - accuracy: 0.7145\n",
            "Epoch 83: val_loss did not improve from 0.68759\n",
            "219/219 [==============================] - 1s 3ms/step - loss: 0.8783 - accuracy: 0.7137 - val_loss: 0.7126 - val_accuracy: 0.7859\n",
            "Epoch 84/100\n",
            "202/219 [==========================>...] - ETA: 0s - loss: 0.8768 - accuracy: 0.7144\n",
            "Epoch 84: val_loss did not improve from 0.68759\n",
            "219/219 [==============================] - 1s 4ms/step - loss: 0.8747 - accuracy: 0.7155 - val_loss: 0.7090 - val_accuracy: 0.7899\n",
            "Epoch 85/100\n",
            "212/219 [============================>.] - ETA: 0s - loss: 0.8829 - accuracy: 0.7095\n",
            "Epoch 85: val_loss did not improve from 0.68759\n",
            "219/219 [==============================] - 1s 4ms/step - loss: 0.8821 - accuracy: 0.7095 - val_loss: 0.7047 - val_accuracy: 0.7859\n",
            "Epoch 86/100\n",
            "213/219 [============================>.] - ETA: 0s - loss: 0.8805 - accuracy: 0.7142\n",
            "Epoch 86: val_loss did not improve from 0.68759\n",
            "219/219 [==============================] - 1s 3ms/step - loss: 0.8824 - accuracy: 0.7135 - val_loss: 0.7131 - val_accuracy: 0.7962\n",
            "Epoch 87/100\n",
            "211/219 [===========================>..] - ETA: 0s - loss: 0.8811 - accuracy: 0.7038\n",
            "Epoch 87: val_loss did not improve from 0.68759\n",
            "219/219 [==============================] - 1s 4ms/step - loss: 0.8768 - accuracy: 0.7058 - val_loss: 0.7109 - val_accuracy: 0.7865\n",
            "Epoch 88/100\n",
            "210/219 [===========================>..] - ETA: 0s - loss: 0.9043 - accuracy: 0.7037\n",
            "Epoch 88: val_loss did not improve from 0.68759\n",
            "219/219 [==============================] - 1s 4ms/step - loss: 0.9024 - accuracy: 0.7042 - val_loss: 0.7206 - val_accuracy: 0.7813\n",
            "Epoch 89/100\n",
            "209/219 [===========================>..] - ETA: 0s - loss: 0.8548 - accuracy: 0.7193\n",
            "Epoch 89: val_loss did not improve from 0.68759\n",
            "219/219 [==============================] - 1s 4ms/step - loss: 0.8547 - accuracy: 0.7203 - val_loss: 0.7206 - val_accuracy: 0.7894\n",
            "Epoch 90/100\n",
            "217/219 [============================>.] - ETA: 0s - loss: 0.8925 - accuracy: 0.7101\n",
            "Epoch 90: val_loss did not improve from 0.68759\n",
            "219/219 [==============================] - 1s 4ms/step - loss: 0.8911 - accuracy: 0.7105 - val_loss: 0.7111 - val_accuracy: 0.7848\n",
            "Epoch 91/100\n",
            "216/219 [============================>.] - ETA: 0s - loss: 0.8890 - accuracy: 0.7066\n",
            "Epoch 91: val_loss did not improve from 0.68759\n",
            "219/219 [==============================] - 1s 4ms/step - loss: 0.8859 - accuracy: 0.7084 - val_loss: 0.7213 - val_accuracy: 0.7825\n",
            "Epoch 92/100\n",
            "217/219 [============================>.] - ETA: 0s - loss: 0.8852 - accuracy: 0.7104\n",
            "Epoch 92: val_loss did not improve from 0.68759\n",
            "219/219 [==============================] - 1s 4ms/step - loss: 0.8844 - accuracy: 0.7110 - val_loss: 0.7304 - val_accuracy: 0.7934\n",
            "Epoch 93/100\n",
            "212/219 [============================>.] - ETA: 0s - loss: 0.8689 - accuracy: 0.7217\n",
            "Epoch 93: val_loss did not improve from 0.68759\n",
            "219/219 [==============================] - 1s 4ms/step - loss: 0.8717 - accuracy: 0.7201 - val_loss: 0.7149 - val_accuracy: 0.7876\n",
            "Epoch 94/100\n",
            "214/219 [============================>.] - ETA: 0s - loss: 0.8796 - accuracy: 0.7110\n",
            "Epoch 94: val_loss did not improve from 0.68759\n",
            "219/219 [==============================] - 1s 4ms/step - loss: 0.8800 - accuracy: 0.7111 - val_loss: 0.7278 - val_accuracy: 0.7922\n",
            "Epoch 95/100\n",
            "219/219 [==============================] - ETA: 0s - loss: 0.8720 - accuracy: 0.7183\n",
            "Epoch 95: val_loss did not improve from 0.68759\n",
            "219/219 [==============================] - 1s 4ms/step - loss: 0.8720 - accuracy: 0.7183 - val_loss: 0.7059 - val_accuracy: 0.7808\n",
            "Epoch 96/100\n",
            "217/219 [============================>.] - ETA: 0s - loss: 0.8608 - accuracy: 0.7162\n",
            "Epoch 96: val_loss did not improve from 0.68759\n",
            "219/219 [==============================] - 1s 4ms/step - loss: 0.8597 - accuracy: 0.7164 - val_loss: 0.7243 - val_accuracy: 0.7705\n",
            "Epoch 97/100\n",
            "214/219 [============================>.] - ETA: 0s - loss: 0.8757 - accuracy: 0.7122\n",
            "Epoch 97: val_loss did not improve from 0.68759\n",
            "219/219 [==============================] - 1s 3ms/step - loss: 0.8758 - accuracy: 0.7112 - val_loss: 0.7461 - val_accuracy: 0.7722\n",
            "Epoch 98/100\n",
            "206/219 [===========================>..] - ETA: 0s - loss: 0.8841 - accuracy: 0.7080\n",
            "Epoch 98: val_loss did not improve from 0.68759\n",
            "219/219 [==============================] - 1s 3ms/step - loss: 0.8875 - accuracy: 0.7084 - val_loss: 0.7149 - val_accuracy: 0.7813\n",
            "Epoch 99/100\n",
            "211/219 [===========================>..] - ETA: 0s - loss: 0.8554 - accuracy: 0.7192\n",
            "Epoch 99: val_loss did not improve from 0.68759\n",
            "219/219 [==============================] - 1s 4ms/step - loss: 0.8646 - accuracy: 0.7177 - val_loss: 0.7212 - val_accuracy: 0.7745\n",
            "Epoch 100/100\n",
            "212/219 [============================>.] - ETA: 0s - loss: 0.8943 - accuracy: 0.7073\n",
            "Epoch 100: val_loss did not improve from 0.68759\n",
            "219/219 [==============================] - 1s 4ms/step - loss: 0.8956 - accuracy: 0.7062 - val_loss: 0.7234 - val_accuracy: 0.7773\n"
          ]
        }
      ],
      "source": [
        "from keras.layers import Dense\n",
        "from keras.models import Sequential\n",
        "from tensorflow.keras.optimizers import Adam\n",
        "from keras.optimizers import adam_v2\n",
        "opt_alpha1 = Adam(lr=0.001)\n",
        "model.compile(loss='categorical_crossentropy', optimizer=opt_alpha1, metrics=['accuracy'])\n",
        "\n",
        "\n",
        "model.fit(X_train, y_train, batch_size=num_batch_size, epochs=num_epochs, validation_data=(X_test, y_test), callbacks=[checkpointer], verbose=1)\n",
        "\n",
        "history_alpha1 = model.fit(X_train, y_train, validation_data=(X_train, y_train), epochs=200, verbose=0)"
      ]
    },
    {
      "cell_type": "code",
      "execution_count": null,
      "metadata": {
        "colab": {
          "background_save": true
        },
        "id": "b7kbNF6SE9d5",
        "outputId": "76d33d47-666d-47ac-ae93-3c602bb7409c"
      },
      "outputs": [
        {
          "data": {
            "image/png": "[encoded data removed]",
            "text/plain": [
              "<Figure size 432x288 with 1 Axes>"
            ]
          },
          "metadata": {},
          "output_type": "display_data"
        },
        {
          "data": {
            "image/png": "[encoded data removed]",
            "text/plain": [
              "<Figure size 432x288 with 1 Axes>"
            ]
          },
          "metadata": {},
          "output_type": "display_data"
        }
      ],
      "source": [
        "history_alpha2 = model.fit(X_test, y_test, validation_data=(X_test, y_test), epochs=200, verbose=0)\n",
        "plt.plot(history_alpha1.epoch, history_alpha1.history[\"accuracy\"], 'g', label='Train ')\n",
        "plt.plot(history_alpha2.epoch, history_alpha2.history[\"accuracy\"], 'y', label='test ')\n",
        "plt.title('accuracy')\n",
        "plt.xlabel('epoches')\n",
        "plt.ylabel('accuracy')\n",
        "plt.legend()\n",
        "plt.show()\n",
        "plt.plot(history_alpha1.epoch, history_alpha1.history[\"loss\"], 'b', label='Train loss ')\n",
        "plt.plot(history_alpha2.epoch, history_alpha2.history[\"loss\"], 'r', label='test loss')\n",
        "plt.title('loss')\n",
        "plt.xlabel('Epochs')\n",
        "plt.ylabel('Loss')\n",
        "plt.legend()\n",
        "plt.show()"
      ]
    }
  ],
  "metadata": {
    "colab": {
      "collapsed_sections": [],
      "provenance": []
    },
    "kernelspec": {
      "display_name": "Python 3",
      "name": "python3"
    },
    "language_info": {
      "name": "python"
    }
  },
  "nbformat": 4,
  "nbformat_minor": 0
}